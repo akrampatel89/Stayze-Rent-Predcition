{
 "cells": [
  {
   "cell_type": "code",
   "execution_count": 1,
   "metadata": {},
   "outputs": [],
   "source": [
    "import pandas as pd\n",
    "import numpy as np\n",
    "import seaborn as sns\n",
    "import matplotlib.pyplot as plt\n",
    "from sklearn.linear_model import LinearRegression\n",
    "from sklearn.preprocessing import LabelEncoder\n",
    "from sklearn.model_selection import train_test_split\n",
    "from sklearn.linear_model import LinearRegression"
   ]
  },
  {
   "cell_type": "code",
   "execution_count": 2,
   "metadata": {},
   "outputs": [],
   "source": [
    "def rmsle(actual_column, predicted_column):\n",
    "    sum=0.0\n",
    "    for x,y in zip(actual_column,predicted_column):\n",
    "        if x<0 or y<0: #check for negative values. \n",
    "            continue\n",
    "        p = np.log(y+1)\n",
    "        r = np.log(x+1)\n",
    "        sum = sum + (p - r)**2\n",
    "    return (sum/len(predicted_column))**0.5"
   ]
  },
  {
   "cell_type": "code",
   "execution_count": 3,
   "metadata": {
    "collapsed": true
   },
   "outputs": [
    {
     "name": "stdout",
     "output_type": "stream",
     "text": [
      "      ID account_type gender  age  region_code  cc_cons_apr  dc_cons_apr  \\\n",
      "0  12554      current      M   35          708     24893.00       378.00   \n",
      "1  17645      current      M   35          123     18941.62       966.00   \n",
      "2   7604      current      M   55          802      5678.87      2724.00   \n",
      "3   1590      current      F   29          867     30489.50      1236.00   \n",
      "4  16556      current      M   34          802      7441.40      6906.04   \n",
      "\n",
      "   cc_cons_may  dc_cons_may  cc_cons_jun  ...  debit_count_may  \\\n",
      "0     10288.00     29664.00     16291.40  ...               40   \n",
      "1     20672.00       287.00      4217.00  ...               78   \n",
      "2      1964.50      3933.11     23956.25  ...               82   \n",
      "3     12609.88      9138.14     17521.00  ...               38   \n",
      "4      4364.00      1939.00      2121.00  ...               50   \n",
      "\n",
      "   max_credit_amount_may  debit_amount_jun  credit_amount_jun  \\\n",
      "0                24563.0          30051.32            12761.0   \n",
      "1                23948.0          42119.05            76206.0   \n",
      "2                10752.0          58373.25            75283.0   \n",
      "3                12607.0          69851.51            68708.0   \n",
      "4                25213.0          10071.00            80140.0   \n",
      "\n",
      "   credit_count_jun  debit_count_jun  max_credit_amount_jun  loan_enq  \\\n",
      "0                 2               65                50836.0         Y   \n",
      "1                21               63                23226.0         Y   \n",
      "2                 7                1                27036.0         Y   \n",
      "3                21               83                43037.0         Y   \n",
      "4                 8               32                32044.0         Y   \n",
      "\n",
      "   emi_active  cc_cons  \n",
      "0     1674.09    20014  \n",
      "1    13043.34    10173  \n",
      "2    25375.27    16095  \n",
      "3     3544.33     7707  \n",
      "4    12780.44    96408  \n",
      "\n",
      "[5 rows x 44 columns]\n"
     ]
    },
    {
     "name": "stderr",
     "output_type": "stream",
     "text": [
      "C:\\Users\\AP hatela\\Miniconda\\lib\\site-packages\\pandas\\core\\series.py:853: RuntimeWarning: invalid value encountered in sqrt\n",
      "  result = getattr(ufunc, method)(*inputs, **kwargs)\n"
     ]
    }
   ],
   "source": [
    "data=pd.read_csv(\"..\\\\Train.csv\")\n",
    "print(data.head())\n",
    "\n",
    "le_account_type=LabelEncoder()\n",
    "data['account_type']=le_account_type.fit_transform(data['account_type'])\n",
    "\n",
    "le_gender=LabelEncoder()\n",
    "data['gender']=le_gender.fit_transform(data['gender'])\n",
    "\n",
    "le_loan_enq=LabelEncoder()\n",
    "data['loan_enq']=le_loan_enq.fit_transform(data['loan_enq'])\n",
    "\n",
    "for col in data.drop('ID',1).columns:\n",
    "    if data[col].skew()>0:\n",
    "        data[col]=np.sqrt(data[col])\n",
    "    else :\n",
    "        data[col]=np.square(data[col])\n",
    "\n",
    "df2=data.set_index('ID').drop(['loan_enq','personal_loan_active','vehicle_loan_active','personal_loan_closed','vehicle_loan_closed'],1)\n",
    "df2.head()\n",
    "\n",
    "df2.investment_4=df2.investment_4.fillna(0)\n",
    "\n",
    "df2.isna().sum()\n",
    "\n",
    "X=df2.drop('cc_cons',1)\n",
    "y=df2['cc_cons']\n",
    "X_train, X_val, y_train, y_val= train_test_split(X, y, test_size=0.25, random_state=25)"
   ]
  },
  {
   "cell_type": "code",
   "execution_count": 4,
   "metadata": {},
   "outputs": [],
   "source": [
    "lr=LinearRegression()"
   ]
  },
  {
   "cell_type": "code",
   "execution_count": 5,
   "metadata": {
    "collapsed": true
   },
   "outputs": [
    {
     "name": "stdout",
     "output_type": "stream",
     "text": [
      "['account_type']\n",
      "0.8593848527662178\n",
      "['account_type', 'gender']\n",
      "0.8593714177516355\n",
      "['account_type', 'gender', 'age']\n",
      "0.8593435811690057\n",
      "['account_type', 'gender', 'age', 'region_code']\n",
      "0.8591732596513911\n",
      "['account_type', 'gender', 'age', 'region_code', 'cc_cons_apr']\n",
      "0.8591576068575392\n",
      "['account_type', 'gender', 'age', 'region_code', 'cc_cons_apr', 'dc_cons_apr']\n",
      "0.8591659176191463\n",
      "['account_type', 'gender', 'age', 'region_code', 'cc_cons_apr', 'dc_cons_apr', 'cc_cons_may']\n",
      "0.8589273958532289\n",
      "['account_type', 'gender', 'age', 'region_code', 'cc_cons_apr', 'dc_cons_apr', 'cc_cons_may', 'dc_cons_may']\n",
      "0.8589308409774467\n",
      "['account_type', 'gender', 'age', 'region_code', 'cc_cons_apr', 'dc_cons_apr', 'cc_cons_may', 'dc_cons_may', 'cc_cons_jun']\n",
      "0.8589152468545874\n",
      "['account_type', 'gender', 'age', 'region_code', 'cc_cons_apr', 'dc_cons_apr', 'cc_cons_may', 'dc_cons_may', 'cc_cons_jun', 'dc_cons_jun']\n",
      "0.8588816836688143\n",
      "['account_type', 'gender', 'age', 'region_code', 'cc_cons_apr', 'dc_cons_apr', 'cc_cons_may', 'dc_cons_may', 'cc_cons_jun', 'dc_cons_jun', 'cc_count_apr']\n",
      "0.8586139425133105\n",
      "['account_type', 'gender', 'age', 'region_code', 'cc_cons_apr', 'dc_cons_apr', 'cc_cons_may', 'dc_cons_may', 'cc_cons_jun', 'dc_cons_jun', 'cc_count_apr', 'cc_count_may']\n",
      "0.8583106414668344\n",
      "['account_type', 'gender', 'age', 'region_code', 'cc_cons_apr', 'dc_cons_apr', 'cc_cons_may', 'dc_cons_may', 'cc_cons_jun', 'dc_cons_jun', 'cc_count_apr', 'cc_count_may', 'cc_count_jun']\n",
      "0.8582246486117708\n",
      "['account_type', 'gender', 'age', 'region_code', 'cc_cons_apr', 'dc_cons_apr', 'cc_cons_may', 'dc_cons_may', 'cc_cons_jun', 'dc_cons_jun', 'cc_count_apr', 'cc_count_may', 'cc_count_jun', 'dc_count_apr']\n",
      "0.8582052749112562\n",
      "['account_type', 'gender', 'age', 'region_code', 'cc_cons_apr', 'dc_cons_apr', 'cc_cons_may', 'dc_cons_may', 'cc_cons_jun', 'dc_cons_jun', 'cc_count_apr', 'cc_count_may', 'cc_count_jun', 'dc_count_apr', 'dc_count_may']\n",
      "0.8581812538516351\n",
      "['account_type', 'gender', 'age', 'region_code', 'cc_cons_apr', 'dc_cons_apr', 'cc_cons_may', 'dc_cons_may', 'cc_cons_jun', 'dc_cons_jun', 'cc_count_apr', 'cc_count_may', 'cc_count_jun', 'dc_count_apr', 'dc_count_may', 'dc_count_jun']\n",
      "0.8581957568552848\n",
      "['account_type', 'gender', 'age', 'region_code', 'cc_cons_apr', 'dc_cons_apr', 'cc_cons_may', 'dc_cons_may', 'cc_cons_jun', 'dc_cons_jun', 'cc_count_apr', 'cc_count_may', 'cc_count_jun', 'dc_count_apr', 'dc_count_may', 'dc_count_jun', 'card_lim']\n",
      "0.8581827755593177\n",
      "['account_type', 'gender', 'age', 'region_code', 'cc_cons_apr', 'dc_cons_apr', 'cc_cons_may', 'dc_cons_may', 'cc_cons_jun', 'dc_cons_jun', 'cc_count_apr', 'cc_count_may', 'cc_count_jun', 'dc_count_apr', 'dc_count_may', 'dc_count_jun', 'card_lim', 'investment_1']\n",
      "0.8581801895875125\n",
      "['account_type', 'gender', 'age', 'region_code', 'cc_cons_apr', 'dc_cons_apr', 'cc_cons_may', 'dc_cons_may', 'cc_cons_jun', 'dc_cons_jun', 'cc_count_apr', 'cc_count_may', 'cc_count_jun', 'dc_count_apr', 'dc_count_may', 'dc_count_jun', 'card_lim', 'investment_1', 'investment_2']\n",
      "0.8581678870204865\n",
      "['account_type', 'gender', 'age', 'region_code', 'cc_cons_apr', 'dc_cons_apr', 'cc_cons_may', 'dc_cons_may', 'cc_cons_jun', 'dc_cons_jun', 'cc_count_apr', 'cc_count_may', 'cc_count_jun', 'dc_count_apr', 'dc_count_may', 'dc_count_jun', 'card_lim', 'investment_1', 'investment_2', 'investment_3']\n",
      "0.8579556225952657\n",
      "['account_type', 'gender', 'age', 'region_code', 'cc_cons_apr', 'dc_cons_apr', 'cc_cons_may', 'dc_cons_may', 'cc_cons_jun', 'dc_cons_jun', 'cc_count_apr', 'cc_count_may', 'cc_count_jun', 'dc_count_apr', 'dc_count_may', 'dc_count_jun', 'card_lim', 'investment_1', 'investment_2', 'investment_3', 'investment_4']\n",
      "0.8579552811728521\n",
      "['account_type', 'gender', 'age', 'region_code', 'cc_cons_apr', 'dc_cons_apr', 'cc_cons_may', 'dc_cons_may', 'cc_cons_jun', 'dc_cons_jun', 'cc_count_apr', 'cc_count_may', 'cc_count_jun', 'dc_count_apr', 'dc_count_may', 'dc_count_jun', 'card_lim', 'investment_1', 'investment_2', 'investment_3', 'investment_4', 'debit_amount_apr']\n",
      "0.8579454264215094\n",
      "['account_type', 'gender', 'age', 'region_code', 'cc_cons_apr', 'dc_cons_apr', 'cc_cons_may', 'dc_cons_may', 'cc_cons_jun', 'dc_cons_jun', 'cc_count_apr', 'cc_count_may', 'cc_count_jun', 'dc_count_apr', 'dc_count_may', 'dc_count_jun', 'card_lim', 'investment_1', 'investment_2', 'investment_3', 'investment_4', 'debit_amount_apr', 'credit_amount_apr']\n",
      "0.8577249322027354\n",
      "['account_type', 'gender', 'age', 'region_code', 'cc_cons_apr', 'dc_cons_apr', 'cc_cons_may', 'dc_cons_may', 'cc_cons_jun', 'dc_cons_jun', 'cc_count_apr', 'cc_count_may', 'cc_count_jun', 'dc_count_apr', 'dc_count_may', 'dc_count_jun', 'card_lim', 'investment_1', 'investment_2', 'investment_3', 'investment_4', 'debit_amount_apr', 'credit_amount_apr', 'debit_count_apr']\n",
      "0.8577223871312369\n",
      "['account_type', 'gender', 'age', 'region_code', 'cc_cons_apr', 'dc_cons_apr', 'cc_cons_may', 'dc_cons_may', 'cc_cons_jun', 'dc_cons_jun', 'cc_count_apr', 'cc_count_may', 'cc_count_jun', 'dc_count_apr', 'dc_count_may', 'dc_count_jun', 'card_lim', 'investment_1', 'investment_2', 'investment_3', 'investment_4', 'debit_amount_apr', 'credit_amount_apr', 'debit_count_apr', 'credit_count_apr']\n",
      "0.8577045790466366\n",
      "['account_type', 'gender', 'age', 'region_code', 'cc_cons_apr', 'dc_cons_apr', 'cc_cons_may', 'dc_cons_may', 'cc_cons_jun', 'dc_cons_jun', 'cc_count_apr', 'cc_count_may', 'cc_count_jun', 'dc_count_apr', 'dc_count_may', 'dc_count_jun', 'card_lim', 'investment_1', 'investment_2', 'investment_3', 'investment_4', 'debit_amount_apr', 'credit_amount_apr', 'debit_count_apr', 'credit_count_apr', 'max_credit_amount_apr']\n",
      "0.8577023355269265\n",
      "['account_type', 'gender', 'age', 'region_code', 'cc_cons_apr', 'dc_cons_apr', 'cc_cons_may', 'dc_cons_may', 'cc_cons_jun', 'dc_cons_jun', 'cc_count_apr', 'cc_count_may', 'cc_count_jun', 'dc_count_apr', 'dc_count_may', 'dc_count_jun', 'card_lim', 'investment_1', 'investment_2', 'investment_3', 'investment_4', 'debit_amount_apr', 'credit_amount_apr', 'debit_count_apr', 'credit_count_apr', 'max_credit_amount_apr', 'debit_amount_may']\n",
      "0.8576963303886521\n",
      "['account_type', 'gender', 'age', 'region_code', 'cc_cons_apr', 'dc_cons_apr', 'cc_cons_may', 'dc_cons_may', 'cc_cons_jun', 'dc_cons_jun', 'cc_count_apr', 'cc_count_may', 'cc_count_jun', 'dc_count_apr', 'dc_count_may', 'dc_count_jun', 'card_lim', 'investment_1', 'investment_2', 'investment_3', 'investment_4', 'debit_amount_apr', 'credit_amount_apr', 'debit_count_apr', 'credit_count_apr', 'max_credit_amount_apr', 'debit_amount_may', 'credit_amount_may']\n",
      "0.8576829882509084\n",
      "['account_type', 'gender', 'age', 'region_code', 'cc_cons_apr', 'dc_cons_apr', 'cc_cons_may', 'dc_cons_may', 'cc_cons_jun', 'dc_cons_jun', 'cc_count_apr', 'cc_count_may', 'cc_count_jun', 'dc_count_apr', 'dc_count_may', 'dc_count_jun', 'card_lim', 'investment_1', 'investment_2', 'investment_3', 'investment_4', 'debit_amount_apr', 'credit_amount_apr', 'debit_count_apr', 'credit_count_apr', 'max_credit_amount_apr', 'debit_amount_may', 'credit_amount_may', 'credit_count_may']\n",
      "0.8576595965249281\n",
      "['account_type', 'gender', 'age', 'region_code', 'cc_cons_apr', 'dc_cons_apr', 'cc_cons_may', 'dc_cons_may', 'cc_cons_jun', 'dc_cons_jun', 'cc_count_apr', 'cc_count_may', 'cc_count_jun', 'dc_count_apr', 'dc_count_may', 'dc_count_jun', 'card_lim', 'investment_1', 'investment_2', 'investment_3', 'investment_4', 'debit_amount_apr', 'credit_amount_apr', 'debit_count_apr', 'credit_count_apr', 'max_credit_amount_apr', 'debit_amount_may', 'credit_amount_may', 'credit_count_may', 'debit_count_may']\n",
      "0.8575869103804501\n",
      "['account_type', 'gender', 'age', 'region_code', 'cc_cons_apr', 'dc_cons_apr', 'cc_cons_may', 'dc_cons_may', 'cc_cons_jun', 'dc_cons_jun', 'cc_count_apr', 'cc_count_may', 'cc_count_jun', 'dc_count_apr', 'dc_count_may', 'dc_count_jun', 'card_lim', 'investment_1', 'investment_2', 'investment_3', 'investment_4', 'debit_amount_apr', 'credit_amount_apr', 'debit_count_apr', 'credit_count_apr', 'max_credit_amount_apr', 'debit_amount_may', 'credit_amount_may', 'credit_count_may', 'debit_count_may', 'max_credit_amount_may']\n",
      "0.8575883088926386\n",
      "['account_type', 'gender', 'age', 'region_code', 'cc_cons_apr', 'dc_cons_apr', 'cc_cons_may', 'dc_cons_may', 'cc_cons_jun', 'dc_cons_jun', 'cc_count_apr', 'cc_count_may', 'cc_count_jun', 'dc_count_apr', 'dc_count_may', 'dc_count_jun', 'card_lim', 'investment_1', 'investment_2', 'investment_3', 'investment_4', 'debit_amount_apr', 'credit_amount_apr', 'debit_count_apr', 'credit_count_apr', 'max_credit_amount_apr', 'debit_amount_may', 'credit_amount_may', 'credit_count_may', 'debit_count_may', 'max_credit_amount_may', 'debit_amount_jun']\n",
      "0.8575474785608627\n",
      "['account_type', 'gender', 'age', 'region_code', 'cc_cons_apr', 'dc_cons_apr', 'cc_cons_may', 'dc_cons_may', 'cc_cons_jun', 'dc_cons_jun', 'cc_count_apr', 'cc_count_may', 'cc_count_jun', 'dc_count_apr', 'dc_count_may', 'dc_count_jun', 'card_lim', 'investment_1', 'investment_2', 'investment_3', 'investment_4', 'debit_amount_apr', 'credit_amount_apr', 'debit_count_apr', 'credit_count_apr', 'max_credit_amount_apr', 'debit_amount_may', 'credit_amount_may', 'credit_count_may', 'debit_count_may', 'max_credit_amount_may', 'debit_amount_jun', 'credit_amount_jun']\n"
     ]
    },
    {
     "name": "stdout",
     "output_type": "stream",
     "text": [
      "0.8574819870548697\n",
      "['account_type', 'gender', 'age', 'region_code', 'cc_cons_apr', 'dc_cons_apr', 'cc_cons_may', 'dc_cons_may', 'cc_cons_jun', 'dc_cons_jun', 'cc_count_apr', 'cc_count_may', 'cc_count_jun', 'dc_count_apr', 'dc_count_may', 'dc_count_jun', 'card_lim', 'investment_1', 'investment_2', 'investment_3', 'investment_4', 'debit_amount_apr', 'credit_amount_apr', 'debit_count_apr', 'credit_count_apr', 'max_credit_amount_apr', 'debit_amount_may', 'credit_amount_may', 'credit_count_may', 'debit_count_may', 'max_credit_amount_may', 'debit_amount_jun', 'credit_amount_jun', 'credit_count_jun']\n",
      "0.8574397010708429\n",
      "['account_type', 'gender', 'age', 'region_code', 'cc_cons_apr', 'dc_cons_apr', 'cc_cons_may', 'dc_cons_may', 'cc_cons_jun', 'dc_cons_jun', 'cc_count_apr', 'cc_count_may', 'cc_count_jun', 'dc_count_apr', 'dc_count_may', 'dc_count_jun', 'card_lim', 'investment_1', 'investment_2', 'investment_3', 'investment_4', 'debit_amount_apr', 'credit_amount_apr', 'debit_count_apr', 'credit_count_apr', 'max_credit_amount_apr', 'debit_amount_may', 'credit_amount_may', 'credit_count_may', 'debit_count_may', 'max_credit_amount_may', 'debit_amount_jun', 'credit_amount_jun', 'credit_count_jun', 'debit_count_jun']\n",
      "0.8574828497145116\n",
      "['account_type', 'gender', 'age', 'region_code', 'cc_cons_apr', 'dc_cons_apr', 'cc_cons_may', 'dc_cons_may', 'cc_cons_jun', 'dc_cons_jun', 'cc_count_apr', 'cc_count_may', 'cc_count_jun', 'dc_count_apr', 'dc_count_may', 'dc_count_jun', 'card_lim', 'investment_1', 'investment_2', 'investment_3', 'investment_4', 'debit_amount_apr', 'credit_amount_apr', 'debit_count_apr', 'credit_count_apr', 'max_credit_amount_apr', 'debit_amount_may', 'credit_amount_may', 'credit_count_may', 'debit_count_may', 'max_credit_amount_may', 'debit_amount_jun', 'credit_amount_jun', 'credit_count_jun', 'debit_count_jun', 'max_credit_amount_jun']\n",
      "0.8574400846821586\n",
      "['account_type', 'gender', 'age', 'region_code', 'cc_cons_apr', 'dc_cons_apr', 'cc_cons_may', 'dc_cons_may', 'cc_cons_jun', 'dc_cons_jun', 'cc_count_apr', 'cc_count_may', 'cc_count_jun', 'dc_count_apr', 'dc_count_may', 'dc_count_jun', 'card_lim', 'investment_1', 'investment_2', 'investment_3', 'investment_4', 'debit_amount_apr', 'credit_amount_apr', 'debit_count_apr', 'credit_count_apr', 'max_credit_amount_apr', 'debit_amount_may', 'credit_amount_may', 'credit_count_may', 'debit_count_may', 'max_credit_amount_may', 'debit_amount_jun', 'credit_amount_jun', 'credit_count_jun', 'debit_count_jun', 'max_credit_amount_jun', 'emi_active']\n",
      "0.8573973735048162\n"
     ]
    },
    {
     "data": {
      "text/plain": [
       "0.8573973735048162"
      ]
     },
     "execution_count": 5,
     "metadata": {},
     "output_type": "execute_result"
    }
   ],
   "source": [
    "# FORWARD SELECTION\n",
    "\n",
    "cols=X.columns\n",
    "n=len(cols)\n",
    "\n",
    "iter_col=[]\n",
    "rmsle_list=[]\n",
    "for i in range(n):\n",
    "    iter_col.append(cols[i])\n",
    "    print(iter_col)\n",
    "    lr.fit(X_train[iter_col], y_train)\n",
    "    y_train_pred=lr.predict(X_train[iter_col])\n",
    "    best_rmsle=rmsle(y_train_pred, y_train)\n",
    "    rmsle_list.append(best_rmsle)\n",
    "    print(rmsle_list[-1])\n",
    "    \n",
    "min(rmsle_list)"
   ]
  },
  {
   "cell_type": "code",
   "execution_count": 6,
   "metadata": {},
   "outputs": [
    {
     "name": "stdout",
     "output_type": "stream",
     "text": [
      "0.8573973735048162 0.8667702059598833\n"
     ]
    }
   ],
   "source": [
    "# model fitting and predictions with rmsle score\n",
    "\n",
    "lr.fit(X_train, y_train)\n",
    "train_pred=lr.predict(X_train)\n",
    "val_pred=lr.predict(X_val)\n",
    "train_rmsle=rmsle(train_pred, y_train)\n",
    "val_rmsle=rmsle(val_pred, y_val)\n",
    "print(train_rmsle, val_rmsle)"
   ]
  },
  {
   "cell_type": "code",
   "execution_count": 7,
   "metadata": {},
   "outputs": [
    {
     "name": "stderr",
     "output_type": "stream",
     "text": [
      "C:\\Users\\AP hatela\\Miniconda\\lib\\site-packages\\pandas\\core\\series.py:853: RuntimeWarning: invalid value encountered in sqrt\n",
      "  result = getattr(ufunc, method)(*inputs, **kwargs)\n"
     ]
    }
   ],
   "source": [
    "# preparation of X_test\n",
    "\n",
    "test=pd.read_csv('..\\\\Test.csv')\n",
    "test.head()\n",
    "\n",
    "test['account_type']=le_account_type.transform(test['account_type'])\n",
    "\n",
    "test['gender']=le_gender.transform(test['gender'])\n",
    "\n",
    "test['loan_enq']=le_loan_enq.transform(test['loan_enq'])\n",
    "\n",
    "for col in test.drop('ID',1).columns:\n",
    "    if test[col].skew()>0:\n",
    "        test[col]=np.sqrt(test[col])\n",
    "    else:\n",
    "        test[col]=np.square(test[col])\n",
    "\n",
    "X_test=test.set_index('ID').drop(['loan_enq','personal_loan_active','vehicle_loan_active','personal_loan_closed','vehicle_loan_closed'],1)\n",
    "\n",
    "X_test['investment_4']=X_test.fillna(0)"
   ]
  },
  {
   "cell_type": "code",
   "execution_count": 8,
   "metadata": {},
   "outputs": [
    {
     "data": {
      "text/plain": [
       "array([30570.02431664, 32371.69032086, 32095.68161125, ...,\n",
       "       26083.93918803, 27024.10852273, 32240.96191847])"
      ]
     },
     "execution_count": 8,
     "metadata": {},
     "output_type": "execute_result"
    }
   ],
   "source": [
    "y_pred=lr.predict(X_test)\n",
    "y_pred**2"
   ]
  },
  {
   "cell_type": "code",
   "execution_count": 10,
   "metadata": {},
   "outputs": [
    {
     "name": "stdout",
     "output_type": "stream",
     "text": [
      "            cc_cons\n",
      "ID                 \n",
      "17591  30570.024317\n",
      "13541  32371.690321\n",
      "13431  32095.681611\n",
      "8687   38768.014784\n",
      "14727  32103.588421\n"
     ]
    }
   ],
   "source": [
    "# storing the predicted results\n",
    "\n",
    "X_test['cc_cons']=y_pred**2\n",
    "\n",
    "result4=pd.DataFrame(X_test['cc_cons'])\n",
    "\n",
    "print(result4.head())\n",
    "\n",
    "result4.to_csv('submission4.csv',index=True)"
   ]
  }
 ],
 "metadata": {
  "kernelspec": {
   "display_name": "Python 3",
   "language": "python",
   "name": "python3"
  },
  "language_info": {
   "codemirror_mode": {
    "name": "ipython",
    "version": 3
   },
   "file_extension": ".py",
   "mimetype": "text/x-python",
   "name": "python",
   "nbconvert_exporter": "python",
   "pygments_lexer": "ipython3",
   "version": "3.7.3"
  }
 },
 "nbformat": 4,
 "nbformat_minor": 2
}
