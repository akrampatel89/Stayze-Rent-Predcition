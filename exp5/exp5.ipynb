{
 "cells": [
  {
   "cell_type": "code",
   "execution_count": 1,
   "metadata": {},
   "outputs": [],
   "source": [
    "import pandas as pd\n",
    "import numpy as np\n",
    "import seaborn as sns\n",
    "import matplotlib.pyplot as plt\n",
    "from sklearn.linear_model import LinearRegression\n",
    "from sklearn.preprocessing import LabelEncoder\n",
    "from sklearn.model_selection import train_test_split\n",
    "from sklearn.linear_model import LinearRegression"
   ]
  },
  {
   "cell_type": "code",
   "execution_count": 2,
   "metadata": {},
   "outputs": [],
   "source": [
    "def rmsle(actual_column, predicted_column):\n",
    "    sum=0.0\n",
    "    for x,y in zip(actual_column,predicted_column):\n",
    "        if x<0 or y<0: #check for negative values. \n",
    "            continue\n",
    "        p = np.log(y+1)\n",
    "        r = np.log(x+1)\n",
    "        sum = sum + (p - r)**2\n",
    "    return (sum/len(predicted_column))**0.5"
   ]
  },
  {
   "cell_type": "code",
   "execution_count": 3,
   "metadata": {},
   "outputs": [
    {
     "name": "stdout",
     "output_type": "stream",
     "text": [
      "      account_type gender  age  region_code  cc_cons_apr  dc_cons_apr  \\\n",
      "ID                                                                      \n",
      "12554      current      M   35          708     24893.00        378.0   \n",
      "17645      current      M   35          123     18941.62        966.0   \n",
      "7604       current      M   55          802      5678.87       2724.0   \n",
      "\n",
      "       cc_cons_may  dc_cons_may  cc_cons_jun  dc_cons_jun  ...  \\\n",
      "ID                                                         ...   \n",
      "12554      10288.0     29664.00     16291.40      11432.0  ...   \n",
      "17645      20672.0       287.00      4217.00        885.0  ...   \n",
      "7604        1964.5      3933.11     23956.25       5168.0  ...   \n",
      "\n",
      "       debit_count_may  max_credit_amount_may  debit_amount_jun  \\\n",
      "ID                                                                \n",
      "12554               40                24563.0          30051.32   \n",
      "17645               78                23948.0          42119.05   \n",
      "7604                82                10752.0          58373.25   \n",
      "\n",
      "       credit_amount_jun  credit_count_jun  debit_count_jun  \\\n",
      "ID                                                            \n",
      "12554            12761.0                 2               65   \n",
      "17645            76206.0                21               63   \n",
      "7604             75283.0                 7                1   \n",
      "\n",
      "       max_credit_amount_jun  loan_enq  emi_active  cc_cons  \n",
      "ID                                                           \n",
      "12554                50836.0         Y     1674.09    20014  \n",
      "17645                23226.0         Y    13043.34    10173  \n",
      "7604                 27036.0         Y    25375.27    16095  \n",
      "\n",
      "[3 rows x 43 columns]\n"
     ]
    },
    {
     "name": "stderr",
     "output_type": "stream",
     "text": [
      "C:\\Users\\AP hatela\\Miniconda\\lib\\site-packages\\pandas\\core\\series.py:853: RuntimeWarning: invalid value encountered in sqrt\n",
      "  result = getattr(ufunc, method)(*inputs, **kwargs)\n"
     ]
    },
    {
     "name": "stdout",
     "output_type": "stream",
     "text": [
      "Index(['account_type', 'gender', 'age', 'region_code', 'cc_cons_apr',\n",
      "       'dc_cons_apr', 'cc_cons_may', 'dc_cons_may', 'cc_cons_jun',\n",
      "       'dc_cons_jun', 'cc_count_apr', 'cc_count_may', 'cc_count_jun',\n",
      "       'dc_count_apr', 'dc_count_may', 'dc_count_jun', 'card_lim',\n",
      "       'investment_1', 'investment_2', 'investment_3', 'investment_4',\n",
      "       'debit_amount_apr', 'credit_amount_apr', 'debit_count_apr',\n",
      "       'credit_count_apr', 'max_credit_amount_apr', 'credit_amount_may',\n",
      "       'credit_count_may', 'debit_count_may', 'max_credit_amount_may',\n",
      "       'debit_amount_jun', 'credit_amount_jun', 'credit_count_jun',\n",
      "       'debit_count_jun', 'max_credit_amount_jun', 'emi_active', 'cc_cons'],\n",
      "      dtype='object')\n",
      "account_type             0\n",
      "gender                   0\n",
      "age                      0\n",
      "region_code              0\n",
      "cc_cons_apr              0\n",
      "dc_cons_apr              0\n",
      "cc_cons_may              0\n",
      "dc_cons_may              0\n",
      "cc_cons_jun              0\n",
      "dc_cons_jun              0\n",
      "cc_count_apr             0\n",
      "cc_count_may             0\n",
      "cc_count_jun             0\n",
      "dc_count_apr             0\n",
      "dc_count_may             0\n",
      "dc_count_jun             0\n",
      "card_lim                 0\n",
      "investment_1             0\n",
      "investment_2             0\n",
      "investment_3             0\n",
      "investment_4             0\n",
      "debit_amount_apr         0\n",
      "credit_amount_apr        0\n",
      "debit_count_apr          0\n",
      "credit_count_apr         0\n",
      "max_credit_amount_apr    0\n",
      "credit_amount_may        0\n",
      "credit_count_may         0\n",
      "debit_count_may          0\n",
      "max_credit_amount_may    0\n",
      "debit_amount_jun         0\n",
      "credit_amount_jun        0\n",
      "credit_count_jun         0\n",
      "debit_count_jun          0\n",
      "max_credit_amount_jun    0\n",
      "emi_active               0\n",
      "cc_cons                  0\n",
      "dtype: int64\n"
     ]
    },
    {
     "name": "stderr",
     "output_type": "stream",
     "text": [
      "C:\\Users\\AP hatela\\Miniconda\\lib\\site-packages\\pandas\\core\\generic.py:5208: SettingWithCopyWarning: \n",
      "A value is trying to be set on a copy of a slice from a DataFrame.\n",
      "Try using .loc[row_indexer,col_indexer] = value instead\n",
      "\n",
      "See the caveats in the documentation: http://pandas.pydata.org/pandas-docs/stable/user_guide/indexing.html#returning-a-view-versus-a-copy\n",
      "  self[name] = value\n"
     ]
    }
   ],
   "source": [
    "data=pd.read_csv(\"..\\\\Train.csv\")\n",
    "data=data.set_index('ID')\n",
    "print(data.head(3))\n",
    "\n",
    "le_account_type=LabelEncoder()\n",
    "data['account_type']=le_account_type.fit_transform(data['account_type'])\n",
    "\n",
    "le_gender=LabelEncoder()\n",
    "data['gender']=le_gender.fit_transform(data['gender'])\n",
    "\n",
    "le_loan_enq=LabelEncoder()\n",
    "data['loan_enq']=le_loan_enq.fit_transform(data['loan_enq'])\n",
    "\n",
    "for col in data.columns:\n",
    "    if data[col].skew()>0:\n",
    "        data[col]=np.sqrt(data[col])\n",
    "    else :\n",
    "        data[col]=np.square(data[col])\n",
    "\n",
    "cols=data.corr().cc_cons[abs(data.corr().cc_cons)>0.001].index\n",
    "\n",
    "df2=data[cols]\n",
    "print(df2.columns)\n",
    "\n",
    "df2.investment_4=df2.investment_4.fillna(0)\n",
    "print(df2.isna().sum())\n",
    "\n",
    "X=df2.drop('cc_cons',1)\n",
    "y=df2['cc_cons']\n",
    "X_train, X_val, y_train, y_val= train_test_split(X, y, test_size=0.25, random_state=25)"
   ]
  },
  {
   "cell_type": "code",
   "execution_count": 10,
   "metadata": {},
   "outputs": [
    {
     "name": "stdout",
     "output_type": "stream",
     "text": [
      "0.8574030124772111 0.866626882637528\n"
     ]
    }
   ],
   "source": [
    "# model fitting and predictions with rmsle score\n",
    "lr=LinearRegression()\n",
    "lr.fit(X_train, y_train)\n",
    "train_pred=lr.predict(X_train)\n",
    "val_pred=lr.predict(X_val)\n",
    "train_rmsle=rmsle(train_pred, y_train)\n",
    "val_rmsle=rmsle(val_pred, y_val)\n",
    "print(train_rmsle, val_rmsle)"
   ]
  },
  {
   "cell_type": "code",
   "execution_count": 6,
   "metadata": {},
   "outputs": [
    {
     "data": {
      "text/plain": [
       "pandas.core.series.Series"
      ]
     },
     "execution_count": 6,
     "metadata": {},
     "output_type": "execute_result"
    }
   ],
   "source": [
    "type(y_train)"
   ]
  },
  {
   "cell_type": "code",
   "execution_count": 8,
   "metadata": {},
   "outputs": [
    {
     "name": "stdout",
     "output_type": "stream",
     "text": [
      "      account_type gender  age  region_code  cc_cons_apr  dc_cons_apr  \\\n",
      "ID                                                                      \n",
      "17591      current      M   37          575      2795.45       1290.0   \n",
      "13541      current      M   33          394     29405.13       1640.0   \n",
      "13431      current      M   53          324      5985.20       6189.0   \n",
      "\n",
      "       cc_cons_may  dc_cons_may  cc_cons_jun  dc_cons_jun  ...  \\\n",
      "ID                                                         ...   \n",
      "17591      6141.05       676.50       9146.1     15479.00  ...   \n",
      "13541      1670.00      2463.92      10947.5       956.00  ...   \n",
      "13431      2696.09       766.00        716.0      4133.22  ...   \n",
      "\n",
      "       credit_count_may  debit_count_may  max_credit_amount_may  \\\n",
      "ID                                                                \n",
      "17591              24.0             20.0                 9750.0   \n",
      "13541              43.0             40.0                16967.0   \n",
      "13431              42.0             35.0                36398.0   \n",
      "\n",
      "       debit_amount_jun  credit_amount_jun  credit_count_jun  debit_count_jun  \\\n",
      "ID                                                                              \n",
      "17591          30527.88           31271.00               3.0             12.0   \n",
      "13541          14342.83           16582.00               6.0             39.0   \n",
      "13431          32503.16           33539.54               5.0              9.0   \n",
      "\n",
      "       max_credit_amount_jun  loan_enq  emi_active  \n",
      "ID                                                  \n",
      "17591               25945.92         Y     1170.49  \n",
      "13541               12214.00         Y    16447.45  \n",
      "13431               13215.00         Y     2622.28  \n",
      "\n",
      "[3 rows x 42 columns]\n"
     ]
    },
    {
     "name": "stderr",
     "output_type": "stream",
     "text": [
      "C:\\Users\\AP hatela\\Miniconda\\lib\\site-packages\\pandas\\core\\series.py:853: RuntimeWarning: invalid value encountered in sqrt\n",
      "  result = getattr(ufunc, method)(*inputs, **kwargs)\n",
      "C:\\Users\\AP hatela\\Miniconda\\lib\\site-packages\\ipykernel_launcher.py:21: SettingWithCopyWarning: \n",
      "A value is trying to be set on a copy of a slice from a DataFrame.\n",
      "Try using .loc[row_indexer,col_indexer] = value instead\n",
      "\n",
      "See the caveats in the documentation: http://pandas.pydata.org/pandas-docs/stable/user_guide/indexing.html#returning-a-view-versus-a-copy\n"
     ]
    },
    {
     "data": {
      "text/plain": [
       "account_type             0\n",
       "gender                   0\n",
       "age                      0\n",
       "region_code              0\n",
       "cc_cons_apr              0\n",
       "dc_cons_apr              0\n",
       "cc_cons_may              0\n",
       "dc_cons_may              0\n",
       "cc_cons_jun              0\n",
       "dc_cons_jun              0\n",
       "cc_count_apr             0\n",
       "cc_count_may             0\n",
       "cc_count_jun             0\n",
       "dc_count_apr             0\n",
       "dc_count_may             0\n",
       "dc_count_jun             0\n",
       "card_lim                 0\n",
       "investment_1             0\n",
       "investment_2             0\n",
       "investment_3             0\n",
       "investment_4             0\n",
       "debit_amount_apr         0\n",
       "credit_amount_apr        0\n",
       "debit_count_apr          0\n",
       "credit_count_apr         0\n",
       "max_credit_amount_apr    0\n",
       "credit_amount_may        0\n",
       "credit_count_may         0\n",
       "debit_count_may          0\n",
       "max_credit_amount_may    0\n",
       "debit_amount_jun         0\n",
       "credit_amount_jun        0\n",
       "credit_count_jun         0\n",
       "debit_count_jun          0\n",
       "max_credit_amount_jun    0\n",
       "emi_active               0\n",
       "dtype: int64"
      ]
     },
     "execution_count": 8,
     "metadata": {},
     "output_type": "execute_result"
    }
   ],
   "source": [
    "# preparation of X_test\n",
    "\n",
    "test=pd.read_csv('..\\\\Test.csv')\n",
    "test=test.set_index('ID')\n",
    "print(test.head(3))\n",
    "\n",
    "test['account_type']=le_account_type.transform(test['account_type'])\n",
    "\n",
    "test['gender']=le_gender.transform(test['gender'])\n",
    "\n",
    "test['loan_enq']=le_loan_enq.transform(test['loan_enq'])\n",
    "\n",
    "for col in test.columns:\n",
    "    if test[col].skew()>0:\n",
    "        test[col]=np.sqrt(test[col])\n",
    "    else:\n",
    "        test[col]=np.square(test[col])\n",
    "\n",
    "X_test=test[cols.drop('cc_cons',1)]\n",
    "\n",
    "X_test['investment_4']=X_test.fillna(0)\n",
    "X_test.isna().sum()"
   ]
  },
  {
   "cell_type": "code",
   "execution_count": 11,
   "metadata": {},
   "outputs": [
    {
     "data": {
      "text/plain": [
       "numpy.ndarray"
      ]
     },
     "execution_count": 11,
     "metadata": {},
     "output_type": "execute_result"
    }
   ],
   "source": [
    "y_pred=lr.predict(X_test)\n",
    "type(y_pred**2)"
   ]
  },
  {
   "cell_type": "code",
   "execution_count": 13,
   "metadata": {},
   "outputs": [
    {
     "name": "stdout",
     "output_type": "stream",
     "text": [
      "            cc_cons\n",
      "ID                 \n",
      "17591  30778.410273\n",
      "13541  32673.305151\n",
      "13431  31665.359147\n",
      "8687   38454.795114\n",
      "14727  31460.530511\n"
     ]
    },
    {
     "name": "stderr",
     "output_type": "stream",
     "text": [
      "C:\\Users\\AP hatela\\Miniconda\\lib\\site-packages\\ipykernel_launcher.py:3: SettingWithCopyWarning: \n",
      "A value is trying to be set on a copy of a slice from a DataFrame.\n",
      "Try using .loc[row_indexer,col_indexer] = value instead\n",
      "\n",
      "See the caveats in the documentation: http://pandas.pydata.org/pandas-docs/stable/user_guide/indexing.html#returning-a-view-versus-a-copy\n",
      "  This is separate from the ipykernel package so we can avoid doing imports until\n"
     ]
    }
   ],
   "source": [
    "# storing the predicted results\n",
    "\n",
    "X_test['cc_cons']=y_pred**2\n",
    "\n",
    "result5=pd.DataFrame(X_test['cc_cons'])\n",
    "\n",
    "print(result5.head())\n",
    "\n",
    "result5.to_csv('submission5.csv',index=True)"
   ]
  },
  {
   "cell_type": "code",
   "execution_count": 14,
   "metadata": {},
   "outputs": [
    {
     "data": {
      "text/plain": [
       "'C:\\\\Users\\\\AP hatela\\\\hacathon 2\\\\exp5'"
      ]
     },
     "execution_count": 14,
     "metadata": {},
     "output_type": "execute_result"
    }
   ],
   "source": [
    "pwd"
   ]
  },
  {
   "cell_type": "code",
   "execution_count": null,
   "metadata": {},
   "outputs": [],
   "source": []
  }
 ],
 "metadata": {
  "kernelspec": {
   "display_name": "Python 3",
   "language": "python",
   "name": "python3"
  },
  "language_info": {
   "codemirror_mode": {
    "name": "ipython",
    "version": 3
   },
   "file_extension": ".py",
   "mimetype": "text/x-python",
   "name": "python",
   "nbconvert_exporter": "python",
   "pygments_lexer": "ipython3",
   "version": "3.7.3"
  }
 },
 "nbformat": 4,
 "nbformat_minor": 2
}
