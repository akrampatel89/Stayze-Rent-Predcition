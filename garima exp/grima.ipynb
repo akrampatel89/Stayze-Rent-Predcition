{
 "cells": [
  {
   "cell_type": "code",
   "execution_count": 1,
   "metadata": {},
   "outputs": [],
   "source": [
    "import pandas as pd\n",
    "import numpy as np\n",
    "import seaborn as sns\n",
    "import matplotlib.pyplot as plt\n",
    "from sklearn.preprocessing import LabelEncoder\n",
    "from sklearn.linear_model import LinearRegression\n",
    "from sklearn.model_selection import train_test_split\n",
    "\n"
   ]
  },
  {
   "cell_type": "code",
   "execution_count": 9,
   "metadata": {},
   "outputs": [],
   "source": [
    "df=pd.read_csv('Train.csv')"
   ]
  },
  {
   "cell_type": "code",
   "execution_count": 10,
   "metadata": {},
   "outputs": [
    {
     "data": {
      "text/html": [
       "<div>\n",
       "<style scoped>\n",
       "    .dataframe tbody tr th:only-of-type {\n",
       "        vertical-align: middle;\n",
       "    }\n",
       "\n",
       "    .dataframe tbody tr th {\n",
       "        vertical-align: top;\n",
       "    }\n",
       "\n",
       "    .dataframe thead th {\n",
       "        text-align: right;\n",
       "    }\n",
       "</style>\n",
       "<table border=\"1\" class=\"dataframe\">\n",
       "  <thead>\n",
       "    <tr style=\"text-align: right;\">\n",
       "      <th></th>\n",
       "      <th>ID</th>\n",
       "      <th>account_type</th>\n",
       "      <th>gender</th>\n",
       "      <th>age</th>\n",
       "      <th>region_code</th>\n",
       "      <th>cc_cons_apr</th>\n",
       "      <th>dc_cons_apr</th>\n",
       "      <th>cc_cons_may</th>\n",
       "      <th>dc_cons_may</th>\n",
       "      <th>cc_cons_jun</th>\n",
       "      <th>...</th>\n",
       "      <th>debit_count_may</th>\n",
       "      <th>max_credit_amount_may</th>\n",
       "      <th>debit_amount_jun</th>\n",
       "      <th>credit_amount_jun</th>\n",
       "      <th>credit_count_jun</th>\n",
       "      <th>debit_count_jun</th>\n",
       "      <th>max_credit_amount_jun</th>\n",
       "      <th>loan_enq</th>\n",
       "      <th>emi_active</th>\n",
       "      <th>cc_cons</th>\n",
       "    </tr>\n",
       "  </thead>\n",
       "  <tbody>\n",
       "    <tr>\n",
       "      <td>0</td>\n",
       "      <td>12554</td>\n",
       "      <td>current</td>\n",
       "      <td>M</td>\n",
       "      <td>35</td>\n",
       "      <td>708</td>\n",
       "      <td>24893.00</td>\n",
       "      <td>378.00</td>\n",
       "      <td>10288.00</td>\n",
       "      <td>29664.00</td>\n",
       "      <td>16291.40</td>\n",
       "      <td>...</td>\n",
       "      <td>40</td>\n",
       "      <td>24563.0</td>\n",
       "      <td>30051.32</td>\n",
       "      <td>12761.0</td>\n",
       "      <td>2</td>\n",
       "      <td>65</td>\n",
       "      <td>50836.0</td>\n",
       "      <td>Y</td>\n",
       "      <td>1674.09</td>\n",
       "      <td>20014</td>\n",
       "    </tr>\n",
       "    <tr>\n",
       "      <td>1</td>\n",
       "      <td>17645</td>\n",
       "      <td>current</td>\n",
       "      <td>M</td>\n",
       "      <td>35</td>\n",
       "      <td>123</td>\n",
       "      <td>18941.62</td>\n",
       "      <td>966.00</td>\n",
       "      <td>20672.00</td>\n",
       "      <td>287.00</td>\n",
       "      <td>4217.00</td>\n",
       "      <td>...</td>\n",
       "      <td>78</td>\n",
       "      <td>23948.0</td>\n",
       "      <td>42119.05</td>\n",
       "      <td>76206.0</td>\n",
       "      <td>21</td>\n",
       "      <td>63</td>\n",
       "      <td>23226.0</td>\n",
       "      <td>Y</td>\n",
       "      <td>13043.34</td>\n",
       "      <td>10173</td>\n",
       "    </tr>\n",
       "    <tr>\n",
       "      <td>2</td>\n",
       "      <td>7604</td>\n",
       "      <td>current</td>\n",
       "      <td>M</td>\n",
       "      <td>55</td>\n",
       "      <td>802</td>\n",
       "      <td>5678.87</td>\n",
       "      <td>2724.00</td>\n",
       "      <td>1964.50</td>\n",
       "      <td>3933.11</td>\n",
       "      <td>23956.25</td>\n",
       "      <td>...</td>\n",
       "      <td>82</td>\n",
       "      <td>10752.0</td>\n",
       "      <td>58373.25</td>\n",
       "      <td>75283.0</td>\n",
       "      <td>7</td>\n",
       "      <td>1</td>\n",
       "      <td>27036.0</td>\n",
       "      <td>Y</td>\n",
       "      <td>25375.27</td>\n",
       "      <td>16095</td>\n",
       "    </tr>\n",
       "    <tr>\n",
       "      <td>3</td>\n",
       "      <td>1590</td>\n",
       "      <td>current</td>\n",
       "      <td>F</td>\n",
       "      <td>29</td>\n",
       "      <td>867</td>\n",
       "      <td>30489.50</td>\n",
       "      <td>1236.00</td>\n",
       "      <td>12609.88</td>\n",
       "      <td>9138.14</td>\n",
       "      <td>17521.00</td>\n",
       "      <td>...</td>\n",
       "      <td>38</td>\n",
       "      <td>12607.0</td>\n",
       "      <td>69851.51</td>\n",
       "      <td>68708.0</td>\n",
       "      <td>21</td>\n",
       "      <td>83</td>\n",
       "      <td>43037.0</td>\n",
       "      <td>Y</td>\n",
       "      <td>3544.33</td>\n",
       "      <td>7707</td>\n",
       "    </tr>\n",
       "    <tr>\n",
       "      <td>4</td>\n",
       "      <td>16556</td>\n",
       "      <td>current</td>\n",
       "      <td>M</td>\n",
       "      <td>34</td>\n",
       "      <td>802</td>\n",
       "      <td>7441.40</td>\n",
       "      <td>6906.04</td>\n",
       "      <td>4364.00</td>\n",
       "      <td>1939.00</td>\n",
       "      <td>2121.00</td>\n",
       "      <td>...</td>\n",
       "      <td>50</td>\n",
       "      <td>25213.0</td>\n",
       "      <td>10071.00</td>\n",
       "      <td>80140.0</td>\n",
       "      <td>8</td>\n",
       "      <td>32</td>\n",
       "      <td>32044.0</td>\n",
       "      <td>Y</td>\n",
       "      <td>12780.44</td>\n",
       "      <td>96408</td>\n",
       "    </tr>\n",
       "  </tbody>\n",
       "</table>\n",
       "<p>5 rows × 44 columns</p>\n",
       "</div>"
      ],
      "text/plain": [
       "      ID account_type gender  age  region_code  cc_cons_apr  dc_cons_apr  \\\n",
       "0  12554      current      M   35          708     24893.00       378.00   \n",
       "1  17645      current      M   35          123     18941.62       966.00   \n",
       "2   7604      current      M   55          802      5678.87      2724.00   \n",
       "3   1590      current      F   29          867     30489.50      1236.00   \n",
       "4  16556      current      M   34          802      7441.40      6906.04   \n",
       "\n",
       "   cc_cons_may  dc_cons_may  cc_cons_jun  ...  debit_count_may  \\\n",
       "0     10288.00     29664.00     16291.40  ...               40   \n",
       "1     20672.00       287.00      4217.00  ...               78   \n",
       "2      1964.50      3933.11     23956.25  ...               82   \n",
       "3     12609.88      9138.14     17521.00  ...               38   \n",
       "4      4364.00      1939.00      2121.00  ...               50   \n",
       "\n",
       "   max_credit_amount_may  debit_amount_jun  credit_amount_jun  \\\n",
       "0                24563.0          30051.32            12761.0   \n",
       "1                23948.0          42119.05            76206.0   \n",
       "2                10752.0          58373.25            75283.0   \n",
       "3                12607.0          69851.51            68708.0   \n",
       "4                25213.0          10071.00            80140.0   \n",
       "\n",
       "   credit_count_jun  debit_count_jun  max_credit_amount_jun  loan_enq  \\\n",
       "0                 2               65                50836.0         Y   \n",
       "1                21               63                23226.0         Y   \n",
       "2                 7                1                27036.0         Y   \n",
       "3                21               83                43037.0         Y   \n",
       "4                 8               32                32044.0         Y   \n",
       "\n",
       "   emi_active  cc_cons  \n",
       "0     1674.09    20014  \n",
       "1    13043.34    10173  \n",
       "2    25375.27    16095  \n",
       "3     3544.33     7707  \n",
       "4    12780.44    96408  \n",
       "\n",
       "[5 rows x 44 columns]"
      ]
     },
     "execution_count": 10,
     "metadata": {},
     "output_type": "execute_result"
    }
   ],
   "source": [
    "df.head(5)"
   ]
  },
  {
   "cell_type": "code",
   "execution_count": 11,
   "metadata": {},
   "outputs": [],
   "source": [
    "df=df.set_index('ID')"
   ]
  },
  {
   "cell_type": "code",
   "execution_count": 12,
   "metadata": {},
   "outputs": [
    {
     "data": {
      "text/plain": [
       "account_type              object\n",
       "gender                    object\n",
       "age                        int64\n",
       "region_code                int64\n",
       "cc_cons_apr              float64\n",
       "dc_cons_apr              float64\n",
       "cc_cons_may              float64\n",
       "dc_cons_may              float64\n",
       "cc_cons_jun              float64\n",
       "dc_cons_jun              float64\n",
       "cc_count_apr               int64\n",
       "cc_count_may               int64\n",
       "cc_count_jun               int64\n",
       "dc_count_apr               int64\n",
       "dc_count_may               int64\n",
       "dc_count_jun               int64\n",
       "card_lim                   int64\n",
       "personal_loan_active       int64\n",
       "vehicle_loan_active        int64\n",
       "personal_loan_closed       int64\n",
       "vehicle_loan_closed        int64\n",
       "investment_1             float64\n",
       "investment_2             float64\n",
       "investment_3             float64\n",
       "investment_4             float64\n",
       "debit_amount_apr         float64\n",
       "credit_amount_apr        float64\n",
       "debit_count_apr            int64\n",
       "credit_count_apr           int64\n",
       "max_credit_amount_apr    float64\n",
       "debit_amount_may         float64\n",
       "credit_amount_may        float64\n",
       "credit_count_may           int64\n",
       "debit_count_may            int64\n",
       "max_credit_amount_may    float64\n",
       "debit_amount_jun         float64\n",
       "credit_amount_jun        float64\n",
       "credit_count_jun           int64\n",
       "debit_count_jun            int64\n",
       "max_credit_amount_jun    float64\n",
       "loan_enq                  object\n",
       "emi_active               float64\n",
       "cc_cons                    int64\n",
       "dtype: object"
      ]
     },
     "execution_count": 12,
     "metadata": {},
     "output_type": "execute_result"
    }
   ],
   "source": [
    "df.dtypes"
   ]
  },
  {
   "cell_type": "code",
   "execution_count": 14,
   "metadata": {},
   "outputs": [],
   "source": [
    "le_ac=LabelEncoder()\n",
    "le_g=LabelEncoder()\n",
    "le_le=LabelEncoder()\n",
    "\n",
    "df.account_type=le_ac.fit_transform(df.account_type)\n",
    "df.gender=le_g.fit_transform(df.gender)\n",
    "df.loan_enq =le_le.fit_transform(df.loan_enq)"
   ]
  },
  {
   "cell_type": "code",
   "execution_count": 15,
   "metadata": {},
   "outputs": [
    {
     "data": {
      "text/html": [
       "<div>\n",
       "<style scoped>\n",
       "    .dataframe tbody tr th:only-of-type {\n",
       "        vertical-align: middle;\n",
       "    }\n",
       "\n",
       "    .dataframe tbody tr th {\n",
       "        vertical-align: top;\n",
       "    }\n",
       "\n",
       "    .dataframe thead th {\n",
       "        text-align: right;\n",
       "    }\n",
       "</style>\n",
       "<table border=\"1\" class=\"dataframe\">\n",
       "  <thead>\n",
       "    <tr style=\"text-align: right;\">\n",
       "      <th></th>\n",
       "      <th>account_type</th>\n",
       "      <th>gender</th>\n",
       "      <th>age</th>\n",
       "      <th>region_code</th>\n",
       "      <th>cc_cons_apr</th>\n",
       "      <th>dc_cons_apr</th>\n",
       "      <th>cc_cons_may</th>\n",
       "      <th>dc_cons_may</th>\n",
       "      <th>cc_cons_jun</th>\n",
       "      <th>dc_cons_jun</th>\n",
       "      <th>...</th>\n",
       "      <th>debit_count_may</th>\n",
       "      <th>max_credit_amount_may</th>\n",
       "      <th>debit_amount_jun</th>\n",
       "      <th>credit_amount_jun</th>\n",
       "      <th>credit_count_jun</th>\n",
       "      <th>debit_count_jun</th>\n",
       "      <th>max_credit_amount_jun</th>\n",
       "      <th>loan_enq</th>\n",
       "      <th>emi_active</th>\n",
       "      <th>cc_cons</th>\n",
       "    </tr>\n",
       "    <tr>\n",
       "      <th>ID</th>\n",
       "      <th></th>\n",
       "      <th></th>\n",
       "      <th></th>\n",
       "      <th></th>\n",
       "      <th></th>\n",
       "      <th></th>\n",
       "      <th></th>\n",
       "      <th></th>\n",
       "      <th></th>\n",
       "      <th></th>\n",
       "      <th></th>\n",
       "      <th></th>\n",
       "      <th></th>\n",
       "      <th></th>\n",
       "      <th></th>\n",
       "      <th></th>\n",
       "      <th></th>\n",
       "      <th></th>\n",
       "      <th></th>\n",
       "      <th></th>\n",
       "      <th></th>\n",
       "    </tr>\n",
       "  </thead>\n",
       "  <tbody>\n",
       "    <tr>\n",
       "      <td>12554</td>\n",
       "      <td>0</td>\n",
       "      <td>1</td>\n",
       "      <td>35</td>\n",
       "      <td>708</td>\n",
       "      <td>24893.00</td>\n",
       "      <td>378.00</td>\n",
       "      <td>10288.00</td>\n",
       "      <td>29664.00</td>\n",
       "      <td>16291.40</td>\n",
       "      <td>11432.00</td>\n",
       "      <td>...</td>\n",
       "      <td>40</td>\n",
       "      <td>24563.0</td>\n",
       "      <td>30051.32</td>\n",
       "      <td>12761.0</td>\n",
       "      <td>2</td>\n",
       "      <td>65</td>\n",
       "      <td>50836.0</td>\n",
       "      <td>0</td>\n",
       "      <td>1674.09</td>\n",
       "      <td>20014</td>\n",
       "    </tr>\n",
       "    <tr>\n",
       "      <td>17645</td>\n",
       "      <td>0</td>\n",
       "      <td>1</td>\n",
       "      <td>35</td>\n",
       "      <td>123</td>\n",
       "      <td>18941.62</td>\n",
       "      <td>966.00</td>\n",
       "      <td>20672.00</td>\n",
       "      <td>287.00</td>\n",
       "      <td>4217.00</td>\n",
       "      <td>885.00</td>\n",
       "      <td>...</td>\n",
       "      <td>78</td>\n",
       "      <td>23948.0</td>\n",
       "      <td>42119.05</td>\n",
       "      <td>76206.0</td>\n",
       "      <td>21</td>\n",
       "      <td>63</td>\n",
       "      <td>23226.0</td>\n",
       "      <td>0</td>\n",
       "      <td>13043.34</td>\n",
       "      <td>10173</td>\n",
       "    </tr>\n",
       "    <tr>\n",
       "      <td>7604</td>\n",
       "      <td>0</td>\n",
       "      <td>1</td>\n",
       "      <td>55</td>\n",
       "      <td>802</td>\n",
       "      <td>5678.87</td>\n",
       "      <td>2724.00</td>\n",
       "      <td>1964.50</td>\n",
       "      <td>3933.11</td>\n",
       "      <td>23956.25</td>\n",
       "      <td>5168.00</td>\n",
       "      <td>...</td>\n",
       "      <td>82</td>\n",
       "      <td>10752.0</td>\n",
       "      <td>58373.25</td>\n",
       "      <td>75283.0</td>\n",
       "      <td>7</td>\n",
       "      <td>1</td>\n",
       "      <td>27036.0</td>\n",
       "      <td>0</td>\n",
       "      <td>25375.27</td>\n",
       "      <td>16095</td>\n",
       "    </tr>\n",
       "    <tr>\n",
       "      <td>1590</td>\n",
       "      <td>0</td>\n",
       "      <td>0</td>\n",
       "      <td>29</td>\n",
       "      <td>867</td>\n",
       "      <td>30489.50</td>\n",
       "      <td>1236.00</td>\n",
       "      <td>12609.88</td>\n",
       "      <td>9138.14</td>\n",
       "      <td>17521.00</td>\n",
       "      <td>13650.30</td>\n",
       "      <td>...</td>\n",
       "      <td>38</td>\n",
       "      <td>12607.0</td>\n",
       "      <td>69851.51</td>\n",
       "      <td>68708.0</td>\n",
       "      <td>21</td>\n",
       "      <td>83</td>\n",
       "      <td>43037.0</td>\n",
       "      <td>0</td>\n",
       "      <td>3544.33</td>\n",
       "      <td>7707</td>\n",
       "    </tr>\n",
       "    <tr>\n",
       "      <td>16556</td>\n",
       "      <td>0</td>\n",
       "      <td>1</td>\n",
       "      <td>34</td>\n",
       "      <td>802</td>\n",
       "      <td>7441.40</td>\n",
       "      <td>6906.04</td>\n",
       "      <td>4364.00</td>\n",
       "      <td>1939.00</td>\n",
       "      <td>2121.00</td>\n",
       "      <td>6829.18</td>\n",
       "      <td>...</td>\n",
       "      <td>50</td>\n",
       "      <td>25213.0</td>\n",
       "      <td>10071.00</td>\n",
       "      <td>80140.0</td>\n",
       "      <td>8</td>\n",
       "      <td>32</td>\n",
       "      <td>32044.0</td>\n",
       "      <td>0</td>\n",
       "      <td>12780.44</td>\n",
       "      <td>96408</td>\n",
       "    </tr>\n",
       "  </tbody>\n",
       "</table>\n",
       "<p>5 rows × 43 columns</p>\n",
       "</div>"
      ],
      "text/plain": [
       "       account_type  gender  age  region_code  cc_cons_apr  dc_cons_apr  \\\n",
       "ID                                                                        \n",
       "12554             0       1   35          708     24893.00       378.00   \n",
       "17645             0       1   35          123     18941.62       966.00   \n",
       "7604              0       1   55          802      5678.87      2724.00   \n",
       "1590              0       0   29          867     30489.50      1236.00   \n",
       "16556             0       1   34          802      7441.40      6906.04   \n",
       "\n",
       "       cc_cons_may  dc_cons_may  cc_cons_jun  dc_cons_jun  ...  \\\n",
       "ID                                                         ...   \n",
       "12554     10288.00     29664.00     16291.40     11432.00  ...   \n",
       "17645     20672.00       287.00      4217.00       885.00  ...   \n",
       "7604       1964.50      3933.11     23956.25      5168.00  ...   \n",
       "1590      12609.88      9138.14     17521.00     13650.30  ...   \n",
       "16556      4364.00      1939.00      2121.00      6829.18  ...   \n",
       "\n",
       "       debit_count_may  max_credit_amount_may  debit_amount_jun  \\\n",
       "ID                                                                \n",
       "12554               40                24563.0          30051.32   \n",
       "17645               78                23948.0          42119.05   \n",
       "7604                82                10752.0          58373.25   \n",
       "1590                38                12607.0          69851.51   \n",
       "16556               50                25213.0          10071.00   \n",
       "\n",
       "       credit_amount_jun  credit_count_jun  debit_count_jun  \\\n",
       "ID                                                            \n",
       "12554            12761.0                 2               65   \n",
       "17645            76206.0                21               63   \n",
       "7604             75283.0                 7                1   \n",
       "1590             68708.0                21               83   \n",
       "16556            80140.0                 8               32   \n",
       "\n",
       "       max_credit_amount_jun  loan_enq  emi_active  cc_cons  \n",
       "ID                                                           \n",
       "12554                50836.0         0     1674.09    20014  \n",
       "17645                23226.0         0    13043.34    10173  \n",
       "7604                 27036.0         0    25375.27    16095  \n",
       "1590                 43037.0         0     3544.33     7707  \n",
       "16556                32044.0         0    12780.44    96408  \n",
       "\n",
       "[5 rows x 43 columns]"
      ]
     },
     "execution_count": 15,
     "metadata": {},
     "output_type": "execute_result"
    }
   ],
   "source": [
    "df.head()"
   ]
  },
  {
   "cell_type": "code",
   "execution_count": 16,
   "metadata": {},
   "outputs": [
    {
     "data": {
      "text/plain": [
       "account_type             0.002929\n",
       "gender                   0.002289\n",
       "age                     -0.006965\n",
       "region_code             -0.018824\n",
       "cc_cons_apr              0.006155\n",
       "dc_cons_apr             -0.000126\n",
       "cc_cons_may              0.021822\n",
       "dc_cons_may             -0.000642\n",
       "cc_cons_jun             -0.000900\n",
       "dc_cons_jun              0.002863\n",
       "cc_count_apr            -0.009760\n",
       "cc_count_may             0.016433\n",
       "cc_count_jun            -0.002005\n",
       "dc_count_apr            -0.000758\n",
       "dc_count_may             0.007711\n",
       "dc_count_jun            -0.006193\n",
       "card_lim                -0.003155\n",
       "personal_loan_active          NaN\n",
       "vehicle_loan_active           NaN\n",
       "personal_loan_closed          NaN\n",
       "vehicle_loan_closed           NaN\n",
       "investment_1             0.004086\n",
       "investment_2             0.008877\n",
       "investment_3            -0.011453\n",
       "investment_4             0.001929\n",
       "debit_amount_apr         0.003937\n",
       "credit_amount_apr        0.005293\n",
       "debit_count_apr         -0.001350\n",
       "credit_count_apr        -0.002170\n",
       "max_credit_amount_apr   -0.003502\n",
       "debit_amount_may        -0.000577\n",
       "credit_amount_may       -0.002064\n",
       "credit_count_may         0.013488\n",
       "debit_count_may         -0.000374\n",
       "max_credit_amount_may    0.008531\n",
       "debit_amount_jun        -0.005573\n",
       "credit_amount_jun       -0.013026\n",
       "credit_count_jun         0.005108\n",
       "debit_count_jun         -0.005336\n",
       "max_credit_amount_jun    0.007843\n",
       "loan_enq                      NaN\n",
       "emi_active              -0.004143\n",
       "cc_cons                  1.000000\n",
       "Name: cc_cons, dtype: float64"
      ]
     },
     "execution_count": 16,
     "metadata": {},
     "output_type": "execute_result"
    }
   ],
   "source": [
    "df.corr().cc_cons"
   ]
  },
  {
   "cell_type": "code",
   "execution_count": 17,
   "metadata": {},
   "outputs": [
    {
     "data": {
      "text/plain": [
       "account_type             0\n",
       "gender                   0\n",
       "age                      0\n",
       "region_code              0\n",
       "cc_cons_apr              0\n",
       "dc_cons_apr              0\n",
       "cc_cons_may              0\n",
       "dc_cons_may              0\n",
       "cc_cons_jun              0\n",
       "dc_cons_jun              0\n",
       "cc_count_apr             0\n",
       "cc_count_may             0\n",
       "cc_count_jun             0\n",
       "dc_count_apr             0\n",
       "dc_count_may             0\n",
       "dc_count_jun             0\n",
       "card_lim                 0\n",
       "personal_loan_active     0\n",
       "vehicle_loan_active      0\n",
       "personal_loan_closed     0\n",
       "vehicle_loan_closed      0\n",
       "investment_1             0\n",
       "investment_2             0\n",
       "investment_3             0\n",
       "investment_4             0\n",
       "debit_amount_apr         0\n",
       "credit_amount_apr        0\n",
       "debit_count_apr          0\n",
       "credit_count_apr         0\n",
       "max_credit_amount_apr    0\n",
       "debit_amount_may         0\n",
       "credit_amount_may        0\n",
       "credit_count_may         0\n",
       "debit_count_may          0\n",
       "max_credit_amount_may    0\n",
       "debit_amount_jun         0\n",
       "credit_amount_jun        0\n",
       "credit_count_jun         0\n",
       "debit_count_jun          0\n",
       "max_credit_amount_jun    0\n",
       "loan_enq                 0\n",
       "emi_active               0\n",
       "cc_cons                  0\n",
       "dtype: int64"
      ]
     },
     "execution_count": 17,
     "metadata": {},
     "output_type": "execute_result"
    }
   ],
   "source": [
    "df.isna().sum()"
   ]
  },
  {
   "cell_type": "code",
   "execution_count": 18,
   "metadata": {},
   "outputs": [],
   "source": [
    "df1=df.drop(['loan_enq','personal_loan_active','vehicle_loan_active','personal_loan_closed','vehicle_loan_closed'],axis=1)"
   ]
  },
  {
   "cell_type": "code",
   "execution_count": 19,
   "metadata": {},
   "outputs": [
    {
     "data": {
      "text/plain": [
       "(15000, 38)"
      ]
     },
     "execution_count": 19,
     "metadata": {},
     "output_type": "execute_result"
    }
   ],
   "source": [
    "df1.head(5)\n",
    "df1.shape"
   ]
  },
  {
   "cell_type": "code",
   "execution_count": 180,
   "metadata": {
    "collapsed": true
   },
   "outputs": [
    {
     "data": {
      "text/plain": [
       "account_type              1.943852\n",
       "gender                   -2.111613\n",
       "age                       4.386093\n",
       "region_code              -0.118365\n",
       "cc_cons_apr               4.838710\n",
       "dc_cons_apr               7.135574\n",
       "cc_cons_may              12.056921\n",
       "dc_cons_may              25.321685\n",
       "cc_cons_jun               6.108982\n",
       "dc_cons_jun               6.569554\n",
       "cc_count_apr              4.417547\n",
       "cc_count_may              7.518349\n",
       "cc_count_jun              7.190550\n",
       "dc_count_apr              1.102698\n",
       "dc_count_may              1.526300\n",
       "dc_count_jun              0.732877\n",
       "card_lim                  0.442569\n",
       "investment_1             11.603971\n",
       "investment_2              5.475358\n",
       "investment_3              4.075013\n",
       "investment_4              1.084492\n",
       "debit_amount_apr         13.104348\n",
       "credit_amount_apr        32.632376\n",
       "debit_count_apr           1.089453\n",
       "credit_count_apr          1.161724\n",
       "max_credit_amount_apr    47.952438\n",
       "debit_amount_may         10.296853\n",
       "credit_amount_may        23.391690\n",
       "credit_count_may          1.833915\n",
       "debit_count_may           1.493358\n",
       "max_credit_amount_may    35.923597\n",
       "debit_amount_jun         19.382550\n",
       "credit_amount_jun        14.859473\n",
       "credit_count_jun          2.079690\n",
       "debit_count_jun           0.565066\n",
       "max_credit_amount_jun    22.338974\n",
       "loan_enq                  0.000000\n",
       "emi_active               30.394696\n",
       "cc_cons                   2.126582\n",
       "dtype: float64"
      ]
     },
     "execution_count": 180,
     "metadata": {},
     "output_type": "execute_result"
    }
   ],
   "source": [
    "df1.skew()"
   ]
  },
  {
   "cell_type": "code",
   "execution_count": 20,
   "metadata": {},
   "outputs": [],
   "source": [
    "#df1.drop('loan_enq',axis=1,inplace=True)"
   ]
  },
  {
   "cell_type": "code",
   "execution_count": 21,
   "metadata": {},
   "outputs": [
    {
     "name": "stderr",
     "output_type": "stream",
     "text": [
      "C:\\Users\\AP hatela\\Miniconda\\lib\\site-packages\\pandas\\core\\series.py:853: RuntimeWarning: invalid value encountered in sqrt\n",
      "  result = getattr(ufunc, method)(*inputs, **kwargs)\n"
     ]
    },
    {
     "data": {
      "text/plain": [
       "(15000, 38)"
      ]
     },
     "execution_count": 21,
     "metadata": {},
     "output_type": "execute_result"
    }
   ],
   "source": [
    "import numpy as np\n",
    "for col in df1.columns:\n",
    "    if df1[col].skew()>0.5:\n",
    "        df1[col]=np.sqrt(df1[col])\n",
    "df1.head(5)\n",
    "df1.shape"
   ]
  },
  {
   "cell_type": "code",
   "execution_count": 22,
   "metadata": {},
   "outputs": [
    {
     "data": {
      "text/plain": [
       "account_type             1.943852\n",
       "gender                  -2.111613\n",
       "age                      3.104259\n",
       "region_code             -0.118365\n",
       "cc_cons_apr              1.627942\n",
       "dc_cons_apr              2.207385\n",
       "cc_cons_may              2.002009\n",
       "dc_cons_may              3.294896\n",
       "cc_cons_jun              1.890619\n",
       "dc_cons_jun              2.317558\n",
       "cc_count_apr             2.653844\n",
       "cc_count_may             1.677811\n",
       "cc_count_jun             0.932037\n",
       "dc_count_apr             0.592788\n",
       "dc_count_may             0.884374\n",
       "dc_count_jun             0.219475\n",
       "card_lim                 0.442569\n",
       "investment_1             4.713771\n",
       "investment_2             1.784030\n",
       "investment_3             1.833091\n",
       "investment_4             0.394800\n",
       "debit_amount_apr         2.415966\n",
       "credit_amount_apr        4.068821\n",
       "debit_count_apr          0.244746\n",
       "credit_count_apr         0.586594\n",
       "max_credit_amount_apr    7.221904\n",
       "debit_amount_may         2.208993\n",
       "credit_amount_may        3.273635\n",
       "credit_count_may         1.155022\n",
       "debit_count_may          0.646004\n",
       "max_credit_amount_may    6.444890\n",
       "debit_amount_jun         3.399956\n",
       "credit_amount_jun        2.803522\n",
       "credit_count_jun         1.302343\n",
       "debit_count_jun         -0.056647\n",
       "max_credit_amount_jun    4.159867\n",
       "emi_active               8.772511\n",
       "cc_cons                  1.613145\n",
       "dtype: float64"
      ]
     },
     "execution_count": 22,
     "metadata": {},
     "output_type": "execute_result"
    }
   ],
   "source": [
    "df1.skew()"
   ]
  },
  {
   "cell_type": "code",
   "execution_count": 184,
   "metadata": {},
   "outputs": [
    {
     "data": {
      "image/png": "[encoded data removed]",
      "text/plain": [
       "<Figure size 432x288 with 1 Axes>"
      ]
     },
     "metadata": {
      "needs_background": "light"
     },
     "output_type": "display_data"
    },
    {
     "data": {
      "image/png": "[encoded data removed]",
      "text/plain": [
       "<Figure size 432x288 with 1 Axes>"
      ]
     },
     "metadata": {
      "needs_background": "light"
     },
     "output_type": "display_data"
    },
    {
     "data": {
      "image/png": "[encoded data removed]",
      "text/plain": [
       "<Figure size 432x288 with 1 Axes>"
      ]
     },
     "metadata": {
      "needs_background": "light"
     },
     "output_type": "display_data"
    },
    {
     "data": {
      "image/png": "[encoded data removed]",
      "text/plain": [
       "<Figure size 432x288 with 1 Axes>"
      ]
     },
     "metadata": {
      "needs_background": "light"
     },
     "output_type": "display_data"
    },
    {
     "data": {
      "image/png": "[encoded data removed]",
      "text/plain": [
       "<Figure size 432x288 with 1 Axes>"
      ]
     },
     "metadata": {
      "needs_background": "light"
     },
     "output_type": "display_data"
    },
    {
     "data": {
      "image/png": "[encoded data removed]",
      "text/plain": [
       "<Figure size 432x288 with 1 Axes>"
      ]
     },
     "metadata": {
      "needs_background": "light"
     },
     "output_type": "display_data"
    },
    {
     "data": {
      "image/png": "[encoded data removed]",
      "text/plain": [
       "<Figure size 432x288 with 1 Axes>"
      ]
     },
     "metadata": {
      "needs_background": "light"
     },
     "output_type": "display_data"
    },
    {
     "data": {
      "image/png": "[encoded data removed]",
      "text/plain": [
       "<Figure size 432x288 with 1 Axes>"
      ]
     },
     "metadata": {
      "needs_background": "light"
     },
     "output_type": "display_data"
    },
    {
     "data": {
      "image/png": "[encoded data removed]",
      "text/plain": [
       "<Figure size 432x288 with 1 Axes>"
      ]
     },
     "metadata": {
      "needs_background": "light"
     },
     "output_type": "display_data"
    },
    {
     "data": {
      "image/png": "[encoded data removed]",
      "text/plain": [
       "<Figure size 432x288 with 1 Axes>"
      ]
     },
     "metadata": {
      "needs_background": "light"
     },
     "output_type": "display_data"
    },
    {
     "data": {
      "image/png": "[encoded data removed]",
      "text/plain": [
       "<Figure size 432x288 with 1 Axes>"
      ]
     },
     "metadata": {
      "needs_background": "light"
     },
     "output_type": "display_data"
    },
    {
     "data": {
      "image/png": "[encoded data removed]",
      "text/plain": [
       "<Figure size 432x288 with 1 Axes>"
      ]
     },
     "metadata": {
      "needs_background": "light"
     },
     "output_type": "display_data"
    },
    {
     "data": {
      "image/png": "[encoded data removed]",
      "text/plain": [
       "<Figure size 432x288 with 1 Axes>"
      ]
     },
     "metadata": {
      "needs_background": "light"
     },
     "output_type": "display_data"
    },
    {
     "data": {
      "image/png": "[encoded data removed]",
      "text/plain": [
       "<Figure size 432x288 with 1 Axes>"
      ]
     },
     "metadata": {
      "needs_background": "light"
     },
     "output_type": "display_data"
    },
    {
     "data": {
      "image/png": "[encoded data removed]",
      "text/plain": [
       "<Figure size 432x288 with 1 Axes>"
      ]
     },
     "metadata": {
      "needs_background": "light"
     },
     "output_type": "display_data"
    },
    {
     "data": {
      "image/png": "[encoded data removed]",
      "text/plain": [
       "<Figure size 432x288 with 1 Axes>"
      ]
     },
     "metadata": {
      "needs_background": "light"
     },
     "output_type": "display_data"
    },
    {
     "data": {
      "image/png": "[encoded data removed]",
      "text/plain": [
       "<Figure size 432x288 with 1 Axes>"
      ]
     },
     "metadata": {
      "needs_background": "light"
     },
     "output_type": "display_data"
    },
    {
     "data": {
      "image/png": "[encoded data removed]",
      "text/plain": [
       "<Figure size 432x288 with 1 Axes>"
      ]
     },
     "metadata": {
      "needs_background": "light"
     },
     "output_type": "display_data"
    },
    {
     "data": {
      "image/png": "[encoded data removed]",
      "text/plain": [
       "<Figure size 432x288 with 1 Axes>"
      ]
     },
     "metadata": {
      "needs_background": "light"
     },
     "output_type": "display_data"
    },
    {
     "data": {
      "image/png": "[encoded data removed]",
      "text/plain": [
       "<Figure size 432x288 with 1 Axes>"
      ]
     },
     "metadata": {
      "needs_background": "light"
     },
     "output_type": "display_data"
    },
    {
     "ename": "ValueError",
     "evalue": "cannot convert float NaN to integer",
     "output_type": "error",
     "traceback": [
      "\u001b[1;31m---------------------------------------------------------------------------\u001b[0m",
      "\u001b[1;31mValueError\u001b[0m                                Traceback (most recent call last)",
      "\u001b[1;32m<ipython-input-184-32f55c7ab11d>\u001b[0m in \u001b[0;36m<module>\u001b[1;34m\u001b[0m\n\u001b[0;32m      1\u001b[0m \u001b[1;32mfor\u001b[0m \u001b[0mcol\u001b[0m \u001b[1;32min\u001b[0m \u001b[0mdf1\u001b[0m\u001b[1;33m.\u001b[0m\u001b[0mcolumns\u001b[0m\u001b[1;33m:\u001b[0m\u001b[1;33m\u001b[0m\u001b[1;33m\u001b[0m\u001b[0m\n\u001b[1;32m----> 2\u001b[1;33m     \u001b[0msns\u001b[0m\u001b[1;33m.\u001b[0m\u001b[0mdistplot\u001b[0m\u001b[1;33m(\u001b[0m\u001b[0mdf1\u001b[0m\u001b[1;33m[\u001b[0m\u001b[0mcol\u001b[0m\u001b[1;33m]\u001b[0m\u001b[1;33m)\u001b[0m\u001b[1;33m\u001b[0m\u001b[1;33m\u001b[0m\u001b[0m\n\u001b[0m\u001b[0;32m      3\u001b[0m     \u001b[0mplt\u001b[0m\u001b[1;33m.\u001b[0m\u001b[0mshow\u001b[0m\u001b[1;33m(\u001b[0m\u001b[1;33m)\u001b[0m\u001b[1;33m\u001b[0m\u001b[1;33m\u001b[0m\u001b[0m\n",
      "\u001b[1;32m~\\Anaconda3\\lib\\site-packages\\seaborn\\distributions.py\u001b[0m in \u001b[0;36mdistplot\u001b[1;34m(a, bins, hist, kde, rug, fit, hist_kws, kde_kws, rug_kws, fit_kws, color, vertical, norm_hist, axlabel, label, ax)\u001b[0m\n\u001b[0;32m    213\u001b[0m     \u001b[1;32mif\u001b[0m \u001b[0mhist\u001b[0m\u001b[1;33m:\u001b[0m\u001b[1;33m\u001b[0m\u001b[1;33m\u001b[0m\u001b[0m\n\u001b[0;32m    214\u001b[0m         \u001b[1;32mif\u001b[0m \u001b[0mbins\u001b[0m \u001b[1;32mis\u001b[0m \u001b[1;32mNone\u001b[0m\u001b[1;33m:\u001b[0m\u001b[1;33m\u001b[0m\u001b[1;33m\u001b[0m\u001b[0m\n\u001b[1;32m--> 215\u001b[1;33m             \u001b[0mbins\u001b[0m \u001b[1;33m=\u001b[0m \u001b[0mmin\u001b[0m\u001b[1;33m(\u001b[0m\u001b[0m_freedman_diaconis_bins\u001b[0m\u001b[1;33m(\u001b[0m\u001b[0ma\u001b[0m\u001b[1;33m)\u001b[0m\u001b[1;33m,\u001b[0m \u001b[1;36m50\u001b[0m\u001b[1;33m)\u001b[0m\u001b[1;33m\u001b[0m\u001b[1;33m\u001b[0m\u001b[0m\n\u001b[0m\u001b[0;32m    216\u001b[0m         \u001b[0mhist_kws\u001b[0m\u001b[1;33m.\u001b[0m\u001b[0msetdefault\u001b[0m\u001b[1;33m(\u001b[0m\u001b[1;34m\"alpha\"\u001b[0m\u001b[1;33m,\u001b[0m \u001b[1;36m0.4\u001b[0m\u001b[1;33m)\u001b[0m\u001b[1;33m\u001b[0m\u001b[1;33m\u001b[0m\u001b[0m\n\u001b[0;32m    217\u001b[0m         \u001b[1;32mif\u001b[0m \u001b[0mLooseVersion\u001b[0m\u001b[1;33m(\u001b[0m\u001b[0mmpl\u001b[0m\u001b[1;33m.\u001b[0m\u001b[0m__version__\u001b[0m\u001b[1;33m)\u001b[0m \u001b[1;33m<\u001b[0m \u001b[0mLooseVersion\u001b[0m\u001b[1;33m(\u001b[0m\u001b[1;34m\"2.2\"\u001b[0m\u001b[1;33m)\u001b[0m\u001b[1;33m:\u001b[0m\u001b[1;33m\u001b[0m\u001b[1;33m\u001b[0m\u001b[0m\n",
      "\u001b[1;32m~\\Anaconda3\\lib\\site-packages\\seaborn\\distributions.py\u001b[0m in \u001b[0;36m_freedman_diaconis_bins\u001b[1;34m(a)\u001b[0m\n\u001b[0;32m     37\u001b[0m         \u001b[1;32mreturn\u001b[0m \u001b[0mint\u001b[0m\u001b[1;33m(\u001b[0m\u001b[0mnp\u001b[0m\u001b[1;33m.\u001b[0m\u001b[0msqrt\u001b[0m\u001b[1;33m(\u001b[0m\u001b[0ma\u001b[0m\u001b[1;33m.\u001b[0m\u001b[0msize\u001b[0m\u001b[1;33m)\u001b[0m\u001b[1;33m)\u001b[0m\u001b[1;33m\u001b[0m\u001b[1;33m\u001b[0m\u001b[0m\n\u001b[0;32m     38\u001b[0m     \u001b[1;32melse\u001b[0m\u001b[1;33m:\u001b[0m\u001b[1;33m\u001b[0m\u001b[1;33m\u001b[0m\u001b[0m\n\u001b[1;32m---> 39\u001b[1;33m         \u001b[1;32mreturn\u001b[0m \u001b[0mint\u001b[0m\u001b[1;33m(\u001b[0m\u001b[0mnp\u001b[0m\u001b[1;33m.\u001b[0m\u001b[0mceil\u001b[0m\u001b[1;33m(\u001b[0m\u001b[1;33m(\u001b[0m\u001b[0ma\u001b[0m\u001b[1;33m.\u001b[0m\u001b[0mmax\u001b[0m\u001b[1;33m(\u001b[0m\u001b[1;33m)\u001b[0m \u001b[1;33m-\u001b[0m \u001b[0ma\u001b[0m\u001b[1;33m.\u001b[0m\u001b[0mmin\u001b[0m\u001b[1;33m(\u001b[0m\u001b[1;33m)\u001b[0m\u001b[1;33m)\u001b[0m \u001b[1;33m/\u001b[0m \u001b[0mh\u001b[0m\u001b[1;33m)\u001b[0m\u001b[1;33m)\u001b[0m\u001b[1;33m\u001b[0m\u001b[1;33m\u001b[0m\u001b[0m\n\u001b[0m\u001b[0;32m     40\u001b[0m \u001b[1;33m\u001b[0m\u001b[0m\n\u001b[0;32m     41\u001b[0m \u001b[1;33m\u001b[0m\u001b[0m\n",
      "\u001b[1;31mValueError\u001b[0m: cannot convert float NaN to integer"
     ]
    },
    {
     "data": {
      "image/png": "[encoded data removed]",
      "text/plain": [
       "<Figure size 432x288 with 1 Axes>"
      ]
     },
     "metadata": {
      "needs_background": "light"
     },
     "output_type": "display_data"
    }
   ],
   "source": [
    "for col in df1.columns:\n",
    "    sns.distplot(df1[col])\n",
    "    plt.show()"
   ]
  },
  {
   "cell_type": "code",
   "execution_count": 23,
   "metadata": {},
   "outputs": [],
   "source": [
    "df1.investment_4=df1.investment_4.fillna(0)"
   ]
  },
  {
   "cell_type": "code",
   "execution_count": 24,
   "metadata": {},
   "outputs": [],
   "source": [
    "from sklearn.preprocessing import StandardScaler\n",
    "scaler = StandardScaler()\n",
    "df2 = scaler.fit_transform(df1)\n",
    "df2 = pd.DataFrame(df2, columns=df1.columns)\n"
   ]
  },
  {
   "cell_type": "code",
   "execution_count": 25,
   "metadata": {},
   "outputs": [
    {
     "data": {
      "text/html": [
       "<div>\n",
       "<style scoped>\n",
       "    .dataframe tbody tr th:only-of-type {\n",
       "        vertical-align: middle;\n",
       "    }\n",
       "\n",
       "    .dataframe tbody tr th {\n",
       "        vertical-align: top;\n",
       "    }\n",
       "\n",
       "    .dataframe thead th {\n",
       "        text-align: right;\n",
       "    }\n",
       "</style>\n",
       "<table border=\"1\" class=\"dataframe\">\n",
       "  <thead>\n",
       "    <tr style=\"text-align: right;\">\n",
       "      <th></th>\n",
       "      <th>account_type</th>\n",
       "      <th>gender</th>\n",
       "      <th>age</th>\n",
       "      <th>region_code</th>\n",
       "      <th>cc_cons_apr</th>\n",
       "      <th>dc_cons_apr</th>\n",
       "      <th>cc_cons_may</th>\n",
       "      <th>dc_cons_may</th>\n",
       "      <th>cc_cons_jun</th>\n",
       "      <th>dc_cons_jun</th>\n",
       "      <th>...</th>\n",
       "      <th>credit_count_may</th>\n",
       "      <th>debit_count_may</th>\n",
       "      <th>max_credit_amount_may</th>\n",
       "      <th>debit_amount_jun</th>\n",
       "      <th>credit_amount_jun</th>\n",
       "      <th>credit_count_jun</th>\n",
       "      <th>debit_count_jun</th>\n",
       "      <th>max_credit_amount_jun</th>\n",
       "      <th>emi_active</th>\n",
       "      <th>cc_cons</th>\n",
       "    </tr>\n",
       "  </thead>\n",
       "  <tbody>\n",
       "    <tr>\n",
       "      <td>0</td>\n",
       "      <td>-0.422607</td>\n",
       "      <td>0.398433</td>\n",
       "      <td>-0.493897</td>\n",
       "      <td>0.497987</td>\n",
       "      <td>0.621926</td>\n",
       "      <td>-1.089665</td>\n",
       "      <td>-0.099215</td>\n",
       "      <td>2.012254</td>\n",
       "      <td>0.586095</td>\n",
       "      <td>0.784743</td>\n",
       "      <td>...</td>\n",
       "      <td>-0.658536</td>\n",
       "      <td>0.219276</td>\n",
       "      <td>-0.368001</td>\n",
       "      <td>-0.488127</td>\n",
       "      <td>-0.888411</td>\n",
       "      <td>-0.927725</td>\n",
       "      <td>0.706968</td>\n",
       "      <td>0.244119</td>\n",
       "      <td>-0.426406</td>\n",
       "      <td>-0.201571</td>\n",
       "    </tr>\n",
       "    <tr>\n",
       "      <td>1</td>\n",
       "      <td>-0.422607</td>\n",
       "      <td>0.398433</td>\n",
       "      <td>-0.493897</td>\n",
       "      <td>-2.160439</td>\n",
       "      <td>0.327632</td>\n",
       "      <td>-0.860493</td>\n",
       "      <td>0.522913</td>\n",
       "      <td>-1.118003</td>\n",
       "      <td>-0.510587</td>\n",
       "      <td>-0.816079</td>\n",
       "      <td>...</td>\n",
       "      <td>-0.658536</td>\n",
       "      <td>1.064314</td>\n",
       "      <td>-0.383652</td>\n",
       "      <td>-0.254387</td>\n",
       "      <td>0.247062</td>\n",
       "      <td>0.350058</td>\n",
       "      <td>0.663354</td>\n",
       "      <td>-0.375605</td>\n",
       "      <td>0.341804</td>\n",
       "      <td>-0.457946</td>\n",
       "    </tr>\n",
       "    <tr>\n",
       "      <td>2</td>\n",
       "      <td>-0.422607</td>\n",
       "      <td>0.398433</td>\n",
       "      <td>0.428705</td>\n",
       "      <td>0.925153</td>\n",
       "      <td>-0.581990</td>\n",
       "      <td>-0.444786</td>\n",
       "      <td>-0.938169</td>\n",
       "      <td>-0.195333</td>\n",
       "      <td>1.060809</td>\n",
       "      <td>0.058056</td>\n",
       "      <td>...</td>\n",
       "      <td>-0.658536</td>\n",
       "      <td>1.139685</td>\n",
       "      <td>-0.788369</td>\n",
       "      <td>0.012353</td>\n",
       "      <td>0.235388</td>\n",
       "      <td>-0.431052</td>\n",
       "      <td>-1.757044</td>\n",
       "      <td>-0.273611</td>\n",
       "      <td>0.814403</td>\n",
       "      <td>-0.293774</td>\n",
       "    </tr>\n",
       "    <tr>\n",
       "      <td>3</td>\n",
       "      <td>-0.422607</td>\n",
       "      <td>-2.509835</td>\n",
       "      <td>-0.820420</td>\n",
       "      <td>1.220534</td>\n",
       "      <td>0.867879</td>\n",
       "      <td>-0.780227</td>\n",
       "      <td>0.060386</td>\n",
       "      <td>0.467421</td>\n",
       "      <td>0.668813</td>\n",
       "      <td>0.990395</td>\n",
       "      <td>...</td>\n",
       "      <td>0.982799</td>\n",
       "      <td>0.165301</td>\n",
       "      <td>-0.720289</td>\n",
       "      <td>0.178725</td>\n",
       "      <td>0.150062</td>\n",
       "      <td>0.350058</td>\n",
       "      <td>1.072675</td>\n",
       "      <td>0.091327</td>\n",
       "      <td>-0.231254</td>\n",
       "      <td>-0.540470</td>\n",
       "    </tr>\n",
       "    <tr>\n",
       "      <td>4</td>\n",
       "      <td>-0.422607</td>\n",
       "      <td>0.398433</td>\n",
       "      <td>-0.546252</td>\n",
       "      <td>0.925153</td>\n",
       "      <td>-0.422689</td>\n",
       "      <td>0.163880</td>\n",
       "      <td>-0.618820</td>\n",
       "      <td>-0.571881</td>\n",
       "      <td>-0.840891</td>\n",
       "      <td>0.281052</td>\n",
       "      <td>...</td>\n",
       "      <td>1.032864</td>\n",
       "      <td>0.470883</td>\n",
       "      <td>-0.351672</td>\n",
       "      <td>-1.023412</td>\n",
       "      <td>0.296047</td>\n",
       "      <td>-0.357380</td>\n",
       "      <td>-0.132274</td>\n",
       "      <td>-0.149932</td>\n",
       "      <td>0.329679</td>\n",
       "      <td>0.865514</td>\n",
       "    </tr>\n",
       "  </tbody>\n",
       "</table>\n",
       "<p>5 rows × 38 columns</p>\n",
       "</div>"
      ],
      "text/plain": [
       "   account_type    gender       age  region_code  cc_cons_apr  dc_cons_apr  \\\n",
       "0     -0.422607  0.398433 -0.493897     0.497987     0.621926    -1.089665   \n",
       "1     -0.422607  0.398433 -0.493897    -2.160439     0.327632    -0.860493   \n",
       "2     -0.422607  0.398433  0.428705     0.925153    -0.581990    -0.444786   \n",
       "3     -0.422607 -2.509835 -0.820420     1.220534     0.867879    -0.780227   \n",
       "4     -0.422607  0.398433 -0.546252     0.925153    -0.422689     0.163880   \n",
       "\n",
       "   cc_cons_may  dc_cons_may  cc_cons_jun  dc_cons_jun  ...  credit_count_may  \\\n",
       "0    -0.099215     2.012254     0.586095     0.784743  ...         -0.658536   \n",
       "1     0.522913    -1.118003    -0.510587    -0.816079  ...         -0.658536   \n",
       "2    -0.938169    -0.195333     1.060809     0.058056  ...         -0.658536   \n",
       "3     0.060386     0.467421     0.668813     0.990395  ...          0.982799   \n",
       "4    -0.618820    -0.571881    -0.840891     0.281052  ...          1.032864   \n",
       "\n",
       "   debit_count_may  max_credit_amount_may  debit_amount_jun  \\\n",
       "0         0.219276              -0.368001         -0.488127   \n",
       "1         1.064314              -0.383652         -0.254387   \n",
       "2         1.139685              -0.788369          0.012353   \n",
       "3         0.165301              -0.720289          0.178725   \n",
       "4         0.470883              -0.351672         -1.023412   \n",
       "\n",
       "   credit_amount_jun  credit_count_jun  debit_count_jun  \\\n",
       "0          -0.888411         -0.927725         0.706968   \n",
       "1           0.247062          0.350058         0.663354   \n",
       "2           0.235388         -0.431052        -1.757044   \n",
       "3           0.150062          0.350058         1.072675   \n",
       "4           0.296047         -0.357380        -0.132274   \n",
       "\n",
       "   max_credit_amount_jun  emi_active   cc_cons  \n",
       "0               0.244119   -0.426406 -0.201571  \n",
       "1              -0.375605    0.341804 -0.457946  \n",
       "2              -0.273611    0.814403 -0.293774  \n",
       "3               0.091327   -0.231254 -0.540470  \n",
       "4              -0.149932    0.329679  0.865514  \n",
       "\n",
       "[5 rows x 38 columns]"
      ]
     },
     "execution_count": 25,
     "metadata": {},
     "output_type": "execute_result"
    }
   ],
   "source": [
    "df2.head(5)\n"
   ]
  },
  {
   "cell_type": "code",
   "execution_count": 26,
   "metadata": {},
   "outputs": [],
   "source": [
    "def rmsle(actual_column, predicted_column):\n",
    "    sum=0.0\n",
    "    for x,y in zip(actual_column,predicted_column):\n",
    "        if x<0 or y<0: #check for negative values. \n",
    "            continue\n",
    "        p = np.log(y+1)\n",
    "        r = np.log(x+1)\n",
    "        sum = sum + (p - r)**2\n",
    "    return (sum/len(predicted_column))**0.5"
   ]
  },
  {
   "cell_type": "code",
   "execution_count": 27,
   "metadata": {},
   "outputs": [],
   "source": [
    "X=df2.drop('cc_cons',1)\n",
    "y=df2['cc_cons']\n",
    "X_train, X_val, y_train, y_val= train_test_split(X, y, test_size=0.25, random_state=5)"
   ]
  },
  {
   "cell_type": "code",
   "execution_count": 28,
   "metadata": {},
   "outputs": [
    {
     "data": {
      "text/plain": [
       "LinearRegression(copy_X=True, fit_intercept=True, n_jobs=None, normalize=False)"
      ]
     },
     "execution_count": 28,
     "metadata": {},
     "output_type": "execute_result"
    }
   ],
   "source": [
    "lr=LinearRegression()\n",
    "lr.fit(X_train, y_train)"
   ]
  },
  {
   "cell_type": "code",
   "execution_count": 29,
   "metadata": {},
   "outputs": [],
   "source": [
    "y_pred_train=lr.predict(X_train)\n",
    "y_pred_val=lr.predict(X_val)"
   ]
  },
  {
   "cell_type": "code",
   "execution_count": 30,
   "metadata": {},
   "outputs": [
    {
     "name": "stdout",
     "output_type": "stream",
     "text": [
      "0.32748128917746244 0.32803942318969853\n"
     ]
    }
   ],
   "source": [
    "train_rmsle=rmsle(y_train, y_pred_train)\n",
    "val_rmsle=rmsle(y_val, y_pred_val)\n",
    "print(train_rmsle, val_rmsle)"
   ]
  },
  {
   "cell_type": "code",
   "execution_count": 31,
   "metadata": {},
   "outputs": [
    {
     "data": {
      "text/html": [
       "<div>\n",
       "<style scoped>\n",
       "    .dataframe tbody tr th:only-of-type {\n",
       "        vertical-align: middle;\n",
       "    }\n",
       "\n",
       "    .dataframe tbody tr th {\n",
       "        vertical-align: top;\n",
       "    }\n",
       "\n",
       "    .dataframe thead th {\n",
       "        text-align: right;\n",
       "    }\n",
       "</style>\n",
       "<table border=\"1\" class=\"dataframe\">\n",
       "  <thead>\n",
       "    <tr style=\"text-align: right;\">\n",
       "      <th></th>\n",
       "      <th>ID</th>\n",
       "      <th>account_type</th>\n",
       "      <th>gender</th>\n",
       "      <th>age</th>\n",
       "      <th>region_code</th>\n",
       "      <th>cc_cons_apr</th>\n",
       "      <th>dc_cons_apr</th>\n",
       "      <th>cc_cons_may</th>\n",
       "      <th>dc_cons_may</th>\n",
       "      <th>cc_cons_jun</th>\n",
       "      <th>...</th>\n",
       "      <th>credit_count_may</th>\n",
       "      <th>debit_count_may</th>\n",
       "      <th>max_credit_amount_may</th>\n",
       "      <th>debit_amount_jun</th>\n",
       "      <th>credit_amount_jun</th>\n",
       "      <th>credit_count_jun</th>\n",
       "      <th>debit_count_jun</th>\n",
       "      <th>max_credit_amount_jun</th>\n",
       "      <th>loan_enq</th>\n",
       "      <th>emi_active</th>\n",
       "    </tr>\n",
       "  </thead>\n",
       "  <tbody>\n",
       "    <tr>\n",
       "      <td>0</td>\n",
       "      <td>17591</td>\n",
       "      <td>current</td>\n",
       "      <td>M</td>\n",
       "      <td>37</td>\n",
       "      <td>575</td>\n",
       "      <td>2795.45</td>\n",
       "      <td>1290.0</td>\n",
       "      <td>6141.05</td>\n",
       "      <td>676.50</td>\n",
       "      <td>9146.1</td>\n",
       "      <td>...</td>\n",
       "      <td>24.0</td>\n",
       "      <td>20.0</td>\n",
       "      <td>9750.0</td>\n",
       "      <td>30527.88</td>\n",
       "      <td>31271.00</td>\n",
       "      <td>3.0</td>\n",
       "      <td>12.0</td>\n",
       "      <td>25945.92</td>\n",
       "      <td>Y</td>\n",
       "      <td>1170.49</td>\n",
       "    </tr>\n",
       "    <tr>\n",
       "      <td>1</td>\n",
       "      <td>13541</td>\n",
       "      <td>current</td>\n",
       "      <td>M</td>\n",
       "      <td>33</td>\n",
       "      <td>394</td>\n",
       "      <td>29405.13</td>\n",
       "      <td>1640.0</td>\n",
       "      <td>1670.00</td>\n",
       "      <td>2463.92</td>\n",
       "      <td>10947.5</td>\n",
       "      <td>...</td>\n",
       "      <td>43.0</td>\n",
       "      <td>40.0</td>\n",
       "      <td>16967.0</td>\n",
       "      <td>14342.83</td>\n",
       "      <td>16582.00</td>\n",
       "      <td>6.0</td>\n",
       "      <td>39.0</td>\n",
       "      <td>12214.00</td>\n",
       "      <td>Y</td>\n",
       "      <td>16447.45</td>\n",
       "    </tr>\n",
       "    <tr>\n",
       "      <td>2</td>\n",
       "      <td>13431</td>\n",
       "      <td>current</td>\n",
       "      <td>M</td>\n",
       "      <td>53</td>\n",
       "      <td>324</td>\n",
       "      <td>5985.20</td>\n",
       "      <td>6189.0</td>\n",
       "      <td>2696.09</td>\n",
       "      <td>766.00</td>\n",
       "      <td>716.0</td>\n",
       "      <td>...</td>\n",
       "      <td>42.0</td>\n",
       "      <td>35.0</td>\n",
       "      <td>36398.0</td>\n",
       "      <td>32503.16</td>\n",
       "      <td>33539.54</td>\n",
       "      <td>5.0</td>\n",
       "      <td>9.0</td>\n",
       "      <td>13215.00</td>\n",
       "      <td>Y</td>\n",
       "      <td>2622.28</td>\n",
       "    </tr>\n",
       "  </tbody>\n",
       "</table>\n",
       "<p>3 rows × 43 columns</p>\n",
       "</div>"
      ],
      "text/plain": [
       "      ID account_type gender  age  region_code  cc_cons_apr  dc_cons_apr  \\\n",
       "0  17591      current      M   37          575      2795.45       1290.0   \n",
       "1  13541      current      M   33          394     29405.13       1640.0   \n",
       "2  13431      current      M   53          324      5985.20       6189.0   \n",
       "\n",
       "   cc_cons_may  dc_cons_may  cc_cons_jun  ...  credit_count_may  \\\n",
       "0      6141.05       676.50       9146.1  ...              24.0   \n",
       "1      1670.00      2463.92      10947.5  ...              43.0   \n",
       "2      2696.09       766.00        716.0  ...              42.0   \n",
       "\n",
       "   debit_count_may  max_credit_amount_may  debit_amount_jun  \\\n",
       "0             20.0                 9750.0          30527.88   \n",
       "1             40.0                16967.0          14342.83   \n",
       "2             35.0                36398.0          32503.16   \n",
       "\n",
       "   credit_amount_jun  credit_count_jun  debit_count_jun  \\\n",
       "0           31271.00               3.0             12.0   \n",
       "1           16582.00               6.0             39.0   \n",
       "2           33539.54               5.0              9.0   \n",
       "\n",
       "   max_credit_amount_jun  loan_enq  emi_active  \n",
       "0               25945.92         Y     1170.49  \n",
       "1               12214.00         Y    16447.45  \n",
       "2               13215.00         Y     2622.28  \n",
       "\n",
       "[3 rows x 43 columns]"
      ]
     },
     "execution_count": 31,
     "metadata": {},
     "output_type": "execute_result"
    }
   ],
   "source": [
    "test=pd.read_csv('Test.csv')\n",
    "test.head(3)"
   ]
  },
  {
   "cell_type": "code",
   "execution_count": 32,
   "metadata": {},
   "outputs": [
    {
     "data": {
      "text/plain": [
       "(5000, 37)"
      ]
     },
     "execution_count": 32,
     "metadata": {},
     "output_type": "execute_result"
    }
   ],
   "source": [
    "X_test=test.set_index('ID').drop(['loan_enq','personal_loan_active','vehicle_loan_active','personal_loan_closed','vehicle_loan_closed'],axis=1)\n",
    "X_test.shape\n",
    "#X_test.info()\n",
    "#type(X_test)"
   ]
  },
  {
   "cell_type": "code",
   "execution_count": 33,
   "metadata": {},
   "outputs": [],
   "source": [
    "X_test.account_type=le_ac.transform(X_test.account_type)\n",
    "X_test.gender=le_g.transform(X_test.gender)\n",
    "#X_test.info()\n",
    "#type(X_test)"
   ]
  },
  {
   "cell_type": "code",
   "execution_count": 34,
   "metadata": {},
   "outputs": [
    {
     "name": "stderr",
     "output_type": "stream",
     "text": [
      "C:\\Users\\AP hatela\\Miniconda\\lib\\site-packages\\pandas\\core\\series.py:853: RuntimeWarning: invalid value encountered in sqrt\n",
      "  result = getattr(ufunc, method)(*inputs, **kwargs)\n"
     ]
    }
   ],
   "source": [
    "for col in X_test.columns:\n",
    "    if X_test[col].skew()>0.5:\n",
    "        X_test[col]=np.sqrt(X_test[col])"
   ]
  },
  {
   "cell_type": "code",
   "execution_count": 35,
   "metadata": {},
   "outputs": [],
   "source": [
    "X_test=X_test.fillna(0)"
   ]
  },
  {
   "cell_type": "code",
   "execution_count": 251,
   "metadata": {},
   "outputs": [
    {
     "data": {
      "text/plain": [
       "(5000, 37)"
      ]
     },
     "execution_count": 251,
     "metadata": {},
     "output_type": "execute_result"
    }
   ],
   "source": [
    "from sklearn.preprocessing import StandardScaler\n",
    "scaler = StandardScaler()\n",
    "df3 = scaler.fit_transform(X_test)\n",
    "df3 = pd.DataFrame(df3, columns=X_test.columns)\n",
    "df3.shape"
   ]
  },
  {
   "cell_type": "code",
   "execution_count": 40,
   "metadata": {},
   "outputs": [
    {
     "data": {
      "text/plain": [
       "array([  52229.59676012,   12847.14399379,    9022.91899802, ...,\n",
       "         49965.38821526,  460512.69538694, 1116301.46549493])"
      ]
     },
     "execution_count": 40,
     "metadata": {},
     "output_type": "execute_result"
    }
   ],
   "source": [
    "y_pred=lr.predict(X_test)\n",
    "y_pred**2"
   ]
  },
  {
   "cell_type": "code",
   "execution_count": 45,
   "metadata": {},
   "outputs": [],
   "source": [
    "X_test['cc_cons']=y_pred**2"
   ]
  },
  {
   "cell_type": "code",
   "execution_count": 46,
   "metadata": {},
   "outputs": [
    {
     "data": {
      "text/plain": [
       "(5000, 38)"
      ]
     },
     "execution_count": 46,
     "metadata": {},
     "output_type": "execute_result"
    }
   ],
   "source": [
    "X_test.shape"
   ]
  },
  {
   "cell_type": "code",
   "execution_count": 47,
   "metadata": {},
   "outputs": [],
   "source": [
    "#df4=scaler.inverse_transform(df3)\n",
    "#df4=pd.DataFrame(df4, columns=df3.columns)"
   ]
  },
  {
   "cell_type": "code",
   "execution_count": 48,
   "metadata": {},
   "outputs": [
    {
     "data": {
      "text/html": [
       "<div>\n",
       "<style scoped>\n",
       "    .dataframe tbody tr th:only-of-type {\n",
       "        vertical-align: middle;\n",
       "    }\n",
       "\n",
       "    .dataframe tbody tr th {\n",
       "        vertical-align: top;\n",
       "    }\n",
       "\n",
       "    .dataframe thead th {\n",
       "        text-align: right;\n",
       "    }\n",
       "</style>\n",
       "<table border=\"1\" class=\"dataframe\">\n",
       "  <thead>\n",
       "    <tr style=\"text-align: right;\">\n",
       "      <th></th>\n",
       "      <th>cc_cons</th>\n",
       "    </tr>\n",
       "    <tr>\n",
       "      <th>ID</th>\n",
       "      <th></th>\n",
       "    </tr>\n",
       "  </thead>\n",
       "  <tbody>\n",
       "    <tr>\n",
       "      <td>17591</td>\n",
       "      <td>5.222960e+04</td>\n",
       "    </tr>\n",
       "    <tr>\n",
       "      <td>13541</td>\n",
       "      <td>1.284714e+04</td>\n",
       "    </tr>\n",
       "    <tr>\n",
       "      <td>13431</td>\n",
       "      <td>9.022919e+03</td>\n",
       "    </tr>\n",
       "    <tr>\n",
       "      <td>8687</td>\n",
       "      <td>9.142584e+05</td>\n",
       "    </tr>\n",
       "    <tr>\n",
       "      <td>14727</td>\n",
       "      <td>9.145134e+04</td>\n",
       "    </tr>\n",
       "    <tr>\n",
       "      <td>...</td>\n",
       "      <td>...</td>\n",
       "    </tr>\n",
       "    <tr>\n",
       "      <td>12512</td>\n",
       "      <td>1.179666e+06</td>\n",
       "    </tr>\n",
       "    <tr>\n",
       "      <td>14224</td>\n",
       "      <td>9.824685e+02</td>\n",
       "    </tr>\n",
       "    <tr>\n",
       "      <td>18740</td>\n",
       "      <td>4.996539e+04</td>\n",
       "    </tr>\n",
       "    <tr>\n",
       "      <td>18134</td>\n",
       "      <td>4.605127e+05</td>\n",
       "    </tr>\n",
       "    <tr>\n",
       "      <td>12413</td>\n",
       "      <td>1.116301e+06</td>\n",
       "    </tr>\n",
       "  </tbody>\n",
       "</table>\n",
       "<p>5000 rows × 1 columns</p>\n",
       "</div>"
      ],
      "text/plain": [
       "            cc_cons\n",
       "ID                 \n",
       "17591  5.222960e+04\n",
       "13541  1.284714e+04\n",
       "13431  9.022919e+03\n",
       "8687   9.142584e+05\n",
       "14727  9.145134e+04\n",
       "...             ...\n",
       "12512  1.179666e+06\n",
       "14224  9.824685e+02\n",
       "18740  4.996539e+04\n",
       "18134  4.605127e+05\n",
       "12413  1.116301e+06\n",
       "\n",
       "[5000 rows x 1 columns]"
      ]
     },
     "execution_count": 48,
     "metadata": {},
     "output_type": "execute_result"
    }
   ],
   "source": [
    "result2=pd.DataFrame(X_test['cc_cons'])\n",
    "result2"
   ]
  },
  {
   "cell_type": "code",
   "execution_count": 49,
   "metadata": {},
   "outputs": [],
   "source": [
    "result2.to_csv('GOR_Submission.csv',index=True)"
   ]
  },
  {
   "cell_type": "code",
   "execution_count": null,
   "metadata": {},
   "outputs": [],
   "source": []
  }
 ],
 "metadata": {
  "kernelspec": {
   "display_name": "Python 3",
   "language": "python",
   "name": "python3"
  },
  "language_info": {
   "codemirror_mode": {
    "name": "ipython",
    "version": 3
   },
   "file_extension": ".py",
   "mimetype": "text/x-python",
   "name": "python",
   "nbconvert_exporter": "python",
   "pygments_lexer": "ipython3",
   "version": "3.7.3"
  }
 },
 "nbformat": 4,
 "nbformat_minor": 2
}
